{
 "cells": [
  {
   "cell_type": "markdown",
   "id": "70e556d8",
   "metadata": {},
   "source": [
    "# Parallel k-Means clustering for distributed data analysis\n",
    "**Authors**   <br>\n",
    "Divari Carlo 2103360 <br>\n",
    "Isotton Gloria mat 2072705 <br>\n",
    "Munafò Sara mat 2072380 <br>"
   ]
  },
  {
   "cell_type": "code",
   "execution_count": null,
   "id": "45979a3b-385f-409a-8adf-7e8fb2aa7fd3",
   "metadata": {},
   "outputs": [],
   "source": [
    "sc.stop()\n",
    "spark.stop()"
   ]
  },
  {
   "cell_type": "code",
   "execution_count": 1,
   "id": "ef9c2044",
   "metadata": {},
   "outputs": [],
   "source": [
    "import numpy as np\n",
    "import pandas as pd\n",
    "import matplotlib.pyplot as plt\n",
    "import matplotlib.pyplot as plt\n",
    "import seaborn as sns\n",
    "import heapq\n",
    "from sklearn.datasets import fetch_kddcup99\n",
    "import sys\n",
    "import time\n",
    "import math\n",
    "import csv\n",
    "from pyspark.sql import SparkSession, Row\n",
    "from pyspark.sql.window import Window\n",
    "from pyspark.sql.functions import col, udf, min, max, sum, avg, variance, array,row_number, monotonically_increasing_id, rand, count\n",
    "from pyspark.ml.feature import VectorAssembler, StandardScaler\n",
    "from functools import reduce\n",
    "from operator import add\n",
    "from pyspark.sql.types import NumericType,DoubleType, IntegerType\n",
    "from pyspark.ml.feature import VectorAssembler\n",
    "from pyspark.ml.feature import PCA"
   ]
  },
  {
   "cell_type": "code",
   "execution_count": 2,
   "id": "aaebd858",
   "metadata": {},
   "outputs": [
    {
     "name": "stderr",
     "output_type": "stream",
     "text": [
      "Warning: Ignoring non-Spark config property: com.amazonaws.sdk.disableCertChecking\n",
      "Setting default log level to \"WARN\".\n",
      "To adjust logging level use sc.setLogLevel(newLevel). For SparkR, use setLogLevel(newLevel).\n",
      "23/10/17 21:22:29 WARN NativeCodeLoader: Unable to load native-hadoop library for your platform... using builtin-java classes where applicable\n"
     ]
    }
   ],
   "source": [
    "spark = SparkSession.builder \\\n",
    "    .master(\"spark://10.67.22.173:7077\")\\\n",
    "    .appName(\"K-means\")\\\n",
    "    .config(\"spark.executor.memory\", \"2048m\")\\\n",
    "    .config(\"spark.sql.execution.arrow.pyspark.enabled\", \"true\")\\\n",
    "    .config(\"spark.sql.execution.arrow.pyspark.fallback.enabled\", \"false\")\\\n",
    "    .config(\"com.amazonaws.sdk.disableCertChecking\",\"true\") \\\n",
    "    .getOrCreate()"
   ]
  },
  {
   "cell_type": "code",
   "execution_count": 3,
   "id": "ec241b13",
   "metadata": {},
   "outputs": [
    {
     "data": {
      "text/html": [
       "\n",
       "            <div>\n",
       "                <p><b>SparkSession - in-memory</b></p>\n",
       "                \n",
       "        <div>\n",
       "            <p><b>SparkContext</b></p>\n",
       "\n",
       "            <p><a href=\"http://master:4040\">Spark UI</a></p>\n",
       "\n",
       "            <dl>\n",
       "              <dt>Version</dt>\n",
       "                <dd><code>v3.4.0</code></dd>\n",
       "              <dt>Master</dt>\n",
       "                <dd><code>spark://10.67.22.173:7077</code></dd>\n",
       "              <dt>AppName</dt>\n",
       "                <dd><code>K-means</code></dd>\n",
       "            </dl>\n",
       "        </div>\n",
       "        \n",
       "            </div>\n",
       "        "
      ],
      "text/plain": [
       "<pyspark.sql.session.SparkSession at 0x7f6e28129990>"
      ]
     },
     "execution_count": 3,
     "metadata": {},
     "output_type": "execute_result"
    }
   ],
   "source": [
    "spark"
   ]
  },
  {
   "cell_type": "code",
   "execution_count": 4,
   "id": "2d01ac0f-b263-4989-8827-ecdcc35927fd",
   "metadata": {},
   "outputs": [
    {
     "data": {
      "text/html": [
       "\n",
       "        <div>\n",
       "            <p><b>SparkContext</b></p>\n",
       "\n",
       "            <p><a href=\"http://master:4040\">Spark UI</a></p>\n",
       "\n",
       "            <dl>\n",
       "              <dt>Version</dt>\n",
       "                <dd><code>v3.4.0</code></dd>\n",
       "              <dt>Master</dt>\n",
       "                <dd><code>spark://10.67.22.173:7077</code></dd>\n",
       "              <dt>AppName</dt>\n",
       "                <dd><code>K-means</code></dd>\n",
       "            </dl>\n",
       "        </div>\n",
       "        "
      ],
      "text/plain": [
       "<SparkContext master=spark://10.67.22.173:7077 appName=K-means>"
      ]
     },
     "execution_count": 4,
     "metadata": {},
     "output_type": "execute_result"
    }
   ],
   "source": [
    "# create a spark context\n",
    "sc = spark.sparkContext\n",
    "\n",
    "# print its status\n",
    "sc"
   ]
  },
  {
   "cell_type": "code",
   "execution_count": 5,
   "id": "1477635a-3ca7-4c4b-a4a9-865a76e22846",
   "metadata": {},
   "outputs": [],
   "source": [
    "sc.setLogLevel(\"ERROR\")"
   ]
  },
  {
   "cell_type": "markdown",
   "id": "c1ad91f3",
   "metadata": {},
   "source": [
    "# Abstract\n",
    "Due to its simplicity, the k-means algorithm is one of the most famous machine learning algorithms used to cluster data. The main critical problem of this algorithm is that it might be blocked locally based on the initial random chosen centers. To address this issue, the k-means++ algorithm was devised, dispersing initial centers through an updated non-uniform distribution. However, K-means++ exhibits limited suitability for extensive datasets due to its inherent sequential process, necessitating k passes across the entire dataset for optimal center initialization. The `k-means||` algorithm, detailed in the \"Scalable K-Means++\" paper, represents a parallelized iteration of k-means++, offering improvements. Rather than sampling a single point, it oversamples multiple centers in each step while maintaining performance guarantees.\n",
    "\n",
    "In this project our objective is to implement a parallelized `k-means||` clustering algorithm. \n",
    "This particular algorithm has demonstrated superior performance compared to other k-means algorithms, especially when dealing with large-scale datasets.\n",
    "We  make use of the computational resources available in the Cloud Veneto environment along with PySpark. \n",
    "Our goal is to evaluate the performance and effectiveness of our algorithm by employing the `KDD-Cup’99` dataset.\n"
   ]
  },
  {
   "cell_type": "markdown",
   "id": "d769e357",
   "metadata": {},
   "source": [
    "###  Notation and Algorithm\n",
    "\n",
    "Suppose $X = \\{x_1, \\dots, x_n \\}$ are d-dimentional points to be clustered and k is the number of cluster (a positer integer). \n",
    "\n",
    "For a subset $Y \\in X$, define the distance from a point $x$ to $Y$ as $d(x,Y) = min_{y \\in Y} \\| x-y\\|$, where $\\|x -y \\|$denote the Euclidean distance between $x$ and $y$, define the centroid of $Y$ as\n",
    "$$Centroid(Y) = \\frac{1}{|Y|} \\sum_{y \\in Y} y$$\n",
    "\n",
    "For a set of cluster centers $C = \\{ c_1, c_2 ,\\dots , c_k\\}$, define the _cost of $Y$_ with respect to $C$ as:\n",
    "\n",
    "$$ \\phi_Y(C) = \\sum_{y \\in Y} d(y,C)^2$$\n",
    "\n",
    "In `k-means||` algorithm, it set an oversampling factor $l = \\Omega (k)$. $l>1$ is an integer.\n",
    "\n",
    "\n",
    "Steps of `k-means||` initialization algorithm:\n",
    "\n",
    "- Sample a point uniformaly from X as the first center $C$\n",
    "- Compute the cost of clustering based on this choice $\\phi_{X}(C)=\\psi$\n",
    "- for $O(log\\psi)$ times repeat:  \n",
    " - Independently sample $l$ points with probability $p_{x}=\\frac{l\\cdot d^{2}(x,C)}{\\phi_{X}(C)}$ as $C'$\n",
    " - $C=C\\cup C'$\n",
    "- For each point $x \\in C$, compute $w_{x}$ as the number of points in $X$ closer to x than other point in $C$\n",
    "- Get k clusters from reclustering those weighted points in $C$ "
   ]
  },
  {
   "cell_type": "markdown",
   "id": "d24e9bad",
   "metadata": {},
   "source": [
    "# Implementation"
   ]
  },
  {
   "cell_type": "code",
   "execution_count": 6,
   "id": "ca7cff21",
   "metadata": {},
   "outputs": [
    {
     "name": "stderr",
     "output_type": "stream",
     "text": [
      "/usr/local/spark/python/pyspark/sql/pandas/serializers.py:229: FutureWarning: is_categorical_dtype is deprecated and will be removed in a future version. Use isinstance(dtype, CategoricalDtype) instead\n",
      "  elif is_categorical_dtype(s.dtype):\n"
     ]
    }
   ],
   "source": [
    "kdd_10 = spark.createDataFrame(fetch_kddcup99(percent10=True,as_frame=True)['frame'])"
   ]
  },
  {
   "cell_type": "code",
   "execution_count": 7,
   "id": "7a8b9c2b",
   "metadata": {},
   "outputs": [
    {
     "name": "stdout",
     "output_type": "stream",
     "text": [
      "root\n",
      " |-- duration: long (nullable = true)\n",
      " |-- protocol_type: binary (nullable = true)\n",
      " |-- service: binary (nullable = true)\n",
      " |-- flag: binary (nullable = true)\n",
      " |-- src_bytes: long (nullable = true)\n",
      " |-- dst_bytes: long (nullable = true)\n",
      " |-- land: long (nullable = true)\n",
      " |-- wrong_fragment: long (nullable = true)\n",
      " |-- urgent: long (nullable = true)\n",
      " |-- hot: long (nullable = true)\n",
      " |-- num_failed_logins: long (nullable = true)\n",
      " |-- logged_in: long (nullable = true)\n",
      " |-- num_compromised: long (nullable = true)\n",
      " |-- root_shell: long (nullable = true)\n",
      " |-- su_attempted: long (nullable = true)\n",
      " |-- num_root: long (nullable = true)\n",
      " |-- num_file_creations: long (nullable = true)\n",
      " |-- num_shells: long (nullable = true)\n",
      " |-- num_access_files: long (nullable = true)\n",
      " |-- num_outbound_cmds: long (nullable = true)\n",
      " |-- is_host_login: long (nullable = true)\n",
      " |-- is_guest_login: long (nullable = true)\n",
      " |-- count: long (nullable = true)\n",
      " |-- srv_count: long (nullable = true)\n",
      " |-- serror_rate: double (nullable = true)\n",
      " |-- srv_serror_rate: double (nullable = true)\n",
      " |-- rerror_rate: double (nullable = true)\n",
      " |-- srv_rerror_rate: double (nullable = true)\n",
      " |-- same_srv_rate: double (nullable = true)\n",
      " |-- diff_srv_rate: double (nullable = true)\n",
      " |-- srv_diff_host_rate: double (nullable = true)\n",
      " |-- dst_host_count: long (nullable = true)\n",
      " |-- dst_host_srv_count: long (nullable = true)\n",
      " |-- dst_host_same_srv_rate: double (nullable = true)\n",
      " |-- dst_host_diff_srv_rate: double (nullable = true)\n",
      " |-- dst_host_same_src_port_rate: double (nullable = true)\n",
      " |-- dst_host_srv_diff_host_rate: double (nullable = true)\n",
      " |-- dst_host_serror_rate: double (nullable = true)\n",
      " |-- dst_host_srv_serror_rate: double (nullable = true)\n",
      " |-- dst_host_rerror_rate: double (nullable = true)\n",
      " |-- dst_host_srv_rerror_rate: double (nullable = true)\n",
      " |-- labels: binary (nullable = true)\n",
      "\n"
     ]
    }
   ],
   "source": [
    "kdd_10.printSchema()"
   ]
  },
  {
   "cell_type": "code",
   "execution_count": 8,
   "id": "bb8cb209",
   "metadata": {},
   "outputs": [
    {
     "name": "stderr",
     "output_type": "stream",
     "text": [
      "[Stage 0:===============================================>         (42 + 8) / 50]\r"
     ]
    },
    {
     "name": "stdout",
     "output_type": "stream",
     "text": [
      "Dimension of the dataset:  494021 x 42\n"
     ]
    },
    {
     "name": "stderr",
     "output_type": "stream",
     "text": [
      "                                                                                \r"
     ]
    }
   ],
   "source": [
    "nrows=kdd_10.count()\n",
    "ncols=len(kdd_10.columns)\n",
    "print('Dimension of the dataset: ',nrows,'x',ncols )"
   ]
  },
  {
   "cell_type": "markdown",
   "id": "45bbb9ce",
   "metadata": {},
   "source": [
    "## 1. Pre Processing"
   ]
  },
  {
   "cell_type": "markdown",
   "id": "a04be35d",
   "metadata": {},
   "source": [
    "### 1.1 Remove non-numeric columns"
   ]
  },
  {
   "cell_type": "code",
   "execution_count": 9,
   "id": "e1171c39",
   "metadata": {},
   "outputs": [],
   "source": [
    "#Select all columns except for the labels\n",
    "data_df = kdd_10.select([col for col in kdd_10.columns if col!='labels'])"
   ]
  },
  {
   "cell_type": "code",
   "execution_count": 10,
   "id": "2f8b9543-2e74-40ec-a81e-899637bc0cff",
   "metadata": {},
   "outputs": [],
   "source": [
    "#Remove non-numeric columns\n",
    "numeric_columns = [col_name for col_name, data_type in data_df.dtypes if data_type!='binary']\n",
    "data_df = data_df.select(numeric_columns)"
   ]
  },
  {
   "cell_type": "code",
   "execution_count": 11,
   "id": "76cb80ea-d550-4031-8ebf-10c220bca6de",
   "metadata": {},
   "outputs": [
    {
     "name": "stderr",
     "output_type": "stream",
     "text": [
      "                                                                                \r"
     ]
    },
    {
     "data": {
      "text/html": [
       "<div>\n",
       "<style scoped>\n",
       "    .dataframe tbody tr th:only-of-type {\n",
       "        vertical-align: middle;\n",
       "    }\n",
       "\n",
       "    .dataframe tbody tr th {\n",
       "        vertical-align: top;\n",
       "    }\n",
       "\n",
       "    .dataframe thead th {\n",
       "        text-align: right;\n",
       "    }\n",
       "</style>\n",
       "<table border=\"1\" class=\"dataframe\">\n",
       "  <thead>\n",
       "    <tr style=\"text-align: right;\">\n",
       "      <th></th>\n",
       "      <th>duration</th>\n",
       "      <th>src_bytes</th>\n",
       "      <th>dst_bytes</th>\n",
       "      <th>land</th>\n",
       "      <th>wrong_fragment</th>\n",
       "      <th>urgent</th>\n",
       "      <th>hot</th>\n",
       "      <th>num_failed_logins</th>\n",
       "      <th>logged_in</th>\n",
       "      <th>num_compromised</th>\n",
       "      <th>...</th>\n",
       "      <th>dst_host_count</th>\n",
       "      <th>dst_host_srv_count</th>\n",
       "      <th>dst_host_same_srv_rate</th>\n",
       "      <th>dst_host_diff_srv_rate</th>\n",
       "      <th>dst_host_same_src_port_rate</th>\n",
       "      <th>dst_host_srv_diff_host_rate</th>\n",
       "      <th>dst_host_serror_rate</th>\n",
       "      <th>dst_host_srv_serror_rate</th>\n",
       "      <th>dst_host_rerror_rate</th>\n",
       "      <th>dst_host_srv_rerror_rate</th>\n",
       "    </tr>\n",
       "  </thead>\n",
       "  <tbody>\n",
       "    <tr>\n",
       "      <th>0</th>\n",
       "      <td>0</td>\n",
       "      <td>181</td>\n",
       "      <td>5450</td>\n",
       "      <td>0</td>\n",
       "      <td>0</td>\n",
       "      <td>0</td>\n",
       "      <td>0</td>\n",
       "      <td>0</td>\n",
       "      <td>1</td>\n",
       "      <td>0</td>\n",
       "      <td>...</td>\n",
       "      <td>9</td>\n",
       "      <td>9</td>\n",
       "      <td>1.0</td>\n",
       "      <td>0.0</td>\n",
       "      <td>0.11</td>\n",
       "      <td>0.00</td>\n",
       "      <td>0.00</td>\n",
       "      <td>0.00</td>\n",
       "      <td>0.0</td>\n",
       "      <td>0.0</td>\n",
       "    </tr>\n",
       "    <tr>\n",
       "      <th>1</th>\n",
       "      <td>0</td>\n",
       "      <td>239</td>\n",
       "      <td>486</td>\n",
       "      <td>0</td>\n",
       "      <td>0</td>\n",
       "      <td>0</td>\n",
       "      <td>0</td>\n",
       "      <td>0</td>\n",
       "      <td>1</td>\n",
       "      <td>0</td>\n",
       "      <td>...</td>\n",
       "      <td>19</td>\n",
       "      <td>19</td>\n",
       "      <td>1.0</td>\n",
       "      <td>0.0</td>\n",
       "      <td>0.05</td>\n",
       "      <td>0.00</td>\n",
       "      <td>0.00</td>\n",
       "      <td>0.00</td>\n",
       "      <td>0.0</td>\n",
       "      <td>0.0</td>\n",
       "    </tr>\n",
       "    <tr>\n",
       "      <th>2</th>\n",
       "      <td>0</td>\n",
       "      <td>235</td>\n",
       "      <td>1337</td>\n",
       "      <td>0</td>\n",
       "      <td>0</td>\n",
       "      <td>0</td>\n",
       "      <td>0</td>\n",
       "      <td>0</td>\n",
       "      <td>1</td>\n",
       "      <td>0</td>\n",
       "      <td>...</td>\n",
       "      <td>29</td>\n",
       "      <td>29</td>\n",
       "      <td>1.0</td>\n",
       "      <td>0.0</td>\n",
       "      <td>0.03</td>\n",
       "      <td>0.00</td>\n",
       "      <td>0.00</td>\n",
       "      <td>0.00</td>\n",
       "      <td>0.0</td>\n",
       "      <td>0.0</td>\n",
       "    </tr>\n",
       "    <tr>\n",
       "      <th>3</th>\n",
       "      <td>0</td>\n",
       "      <td>219</td>\n",
       "      <td>1337</td>\n",
       "      <td>0</td>\n",
       "      <td>0</td>\n",
       "      <td>0</td>\n",
       "      <td>0</td>\n",
       "      <td>0</td>\n",
       "      <td>1</td>\n",
       "      <td>0</td>\n",
       "      <td>...</td>\n",
       "      <td>39</td>\n",
       "      <td>39</td>\n",
       "      <td>1.0</td>\n",
       "      <td>0.0</td>\n",
       "      <td>0.03</td>\n",
       "      <td>0.00</td>\n",
       "      <td>0.00</td>\n",
       "      <td>0.00</td>\n",
       "      <td>0.0</td>\n",
       "      <td>0.0</td>\n",
       "    </tr>\n",
       "    <tr>\n",
       "      <th>4</th>\n",
       "      <td>0</td>\n",
       "      <td>217</td>\n",
       "      <td>2032</td>\n",
       "      <td>0</td>\n",
       "      <td>0</td>\n",
       "      <td>0</td>\n",
       "      <td>0</td>\n",
       "      <td>0</td>\n",
       "      <td>1</td>\n",
       "      <td>0</td>\n",
       "      <td>...</td>\n",
       "      <td>49</td>\n",
       "      <td>49</td>\n",
       "      <td>1.0</td>\n",
       "      <td>0.0</td>\n",
       "      <td>0.02</td>\n",
       "      <td>0.00</td>\n",
       "      <td>0.00</td>\n",
       "      <td>0.00</td>\n",
       "      <td>0.0</td>\n",
       "      <td>0.0</td>\n",
       "    </tr>\n",
       "    <tr>\n",
       "      <th>...</th>\n",
       "      <td>...</td>\n",
       "      <td>...</td>\n",
       "      <td>...</td>\n",
       "      <td>...</td>\n",
       "      <td>...</td>\n",
       "      <td>...</td>\n",
       "      <td>...</td>\n",
       "      <td>...</td>\n",
       "      <td>...</td>\n",
       "      <td>...</td>\n",
       "      <td>...</td>\n",
       "      <td>...</td>\n",
       "      <td>...</td>\n",
       "      <td>...</td>\n",
       "      <td>...</td>\n",
       "      <td>...</td>\n",
       "      <td>...</td>\n",
       "      <td>...</td>\n",
       "      <td>...</td>\n",
       "      <td>...</td>\n",
       "      <td>...</td>\n",
       "    </tr>\n",
       "    <tr>\n",
       "      <th>494016</th>\n",
       "      <td>0</td>\n",
       "      <td>310</td>\n",
       "      <td>1881</td>\n",
       "      <td>0</td>\n",
       "      <td>0</td>\n",
       "      <td>0</td>\n",
       "      <td>0</td>\n",
       "      <td>0</td>\n",
       "      <td>1</td>\n",
       "      <td>0</td>\n",
       "      <td>...</td>\n",
       "      <td>86</td>\n",
       "      <td>255</td>\n",
       "      <td>1.0</td>\n",
       "      <td>0.0</td>\n",
       "      <td>0.01</td>\n",
       "      <td>0.05</td>\n",
       "      <td>0.00</td>\n",
       "      <td>0.01</td>\n",
       "      <td>0.0</td>\n",
       "      <td>0.0</td>\n",
       "    </tr>\n",
       "    <tr>\n",
       "      <th>494017</th>\n",
       "      <td>0</td>\n",
       "      <td>282</td>\n",
       "      <td>2286</td>\n",
       "      <td>0</td>\n",
       "      <td>0</td>\n",
       "      <td>0</td>\n",
       "      <td>0</td>\n",
       "      <td>0</td>\n",
       "      <td>1</td>\n",
       "      <td>0</td>\n",
       "      <td>...</td>\n",
       "      <td>6</td>\n",
       "      <td>255</td>\n",
       "      <td>1.0</td>\n",
       "      <td>0.0</td>\n",
       "      <td>0.17</td>\n",
       "      <td>0.05</td>\n",
       "      <td>0.00</td>\n",
       "      <td>0.01</td>\n",
       "      <td>0.0</td>\n",
       "      <td>0.0</td>\n",
       "    </tr>\n",
       "    <tr>\n",
       "      <th>494018</th>\n",
       "      <td>0</td>\n",
       "      <td>203</td>\n",
       "      <td>1200</td>\n",
       "      <td>0</td>\n",
       "      <td>0</td>\n",
       "      <td>0</td>\n",
       "      <td>0</td>\n",
       "      <td>0</td>\n",
       "      <td>1</td>\n",
       "      <td>0</td>\n",
       "      <td>...</td>\n",
       "      <td>16</td>\n",
       "      <td>255</td>\n",
       "      <td>1.0</td>\n",
       "      <td>0.0</td>\n",
       "      <td>0.06</td>\n",
       "      <td>0.05</td>\n",
       "      <td>0.06</td>\n",
       "      <td>0.01</td>\n",
       "      <td>0.0</td>\n",
       "      <td>0.0</td>\n",
       "    </tr>\n",
       "    <tr>\n",
       "      <th>494019</th>\n",
       "      <td>0</td>\n",
       "      <td>291</td>\n",
       "      <td>1200</td>\n",
       "      <td>0</td>\n",
       "      <td>0</td>\n",
       "      <td>0</td>\n",
       "      <td>0</td>\n",
       "      <td>0</td>\n",
       "      <td>1</td>\n",
       "      <td>0</td>\n",
       "      <td>...</td>\n",
       "      <td>26</td>\n",
       "      <td>255</td>\n",
       "      <td>1.0</td>\n",
       "      <td>0.0</td>\n",
       "      <td>0.04</td>\n",
       "      <td>0.05</td>\n",
       "      <td>0.04</td>\n",
       "      <td>0.01</td>\n",
       "      <td>0.0</td>\n",
       "      <td>0.0</td>\n",
       "    </tr>\n",
       "    <tr>\n",
       "      <th>494020</th>\n",
       "      <td>0</td>\n",
       "      <td>219</td>\n",
       "      <td>1234</td>\n",
       "      <td>0</td>\n",
       "      <td>0</td>\n",
       "      <td>0</td>\n",
       "      <td>0</td>\n",
       "      <td>0</td>\n",
       "      <td>1</td>\n",
       "      <td>0</td>\n",
       "      <td>...</td>\n",
       "      <td>6</td>\n",
       "      <td>255</td>\n",
       "      <td>1.0</td>\n",
       "      <td>0.0</td>\n",
       "      <td>0.17</td>\n",
       "      <td>0.05</td>\n",
       "      <td>0.00</td>\n",
       "      <td>0.01</td>\n",
       "      <td>0.0</td>\n",
       "      <td>0.0</td>\n",
       "    </tr>\n",
       "  </tbody>\n",
       "</table>\n",
       "<p>494021 rows × 38 columns</p>\n",
       "</div>"
      ],
      "text/plain": [
       "        duration  src_bytes  dst_bytes  land  wrong_fragment  urgent  hot  \\\n",
       "0              0        181       5450     0               0       0    0   \n",
       "1              0        239        486     0               0       0    0   \n",
       "2              0        235       1337     0               0       0    0   \n",
       "3              0        219       1337     0               0       0    0   \n",
       "4              0        217       2032     0               0       0    0   \n",
       "...          ...        ...        ...   ...             ...     ...  ...   \n",
       "494016         0        310       1881     0               0       0    0   \n",
       "494017         0        282       2286     0               0       0    0   \n",
       "494018         0        203       1200     0               0       0    0   \n",
       "494019         0        291       1200     0               0       0    0   \n",
       "494020         0        219       1234     0               0       0    0   \n",
       "\n",
       "        num_failed_logins  logged_in  num_compromised  ...  dst_host_count  \\\n",
       "0                       0          1                0  ...               9   \n",
       "1                       0          1                0  ...              19   \n",
       "2                       0          1                0  ...              29   \n",
       "3                       0          1                0  ...              39   \n",
       "4                       0          1                0  ...              49   \n",
       "...                   ...        ...              ...  ...             ...   \n",
       "494016                  0          1                0  ...              86   \n",
       "494017                  0          1                0  ...               6   \n",
       "494018                  0          1                0  ...              16   \n",
       "494019                  0          1                0  ...              26   \n",
       "494020                  0          1                0  ...               6   \n",
       "\n",
       "        dst_host_srv_count  dst_host_same_srv_rate  dst_host_diff_srv_rate  \\\n",
       "0                        9                     1.0                     0.0   \n",
       "1                       19                     1.0                     0.0   \n",
       "2                       29                     1.0                     0.0   \n",
       "3                       39                     1.0                     0.0   \n",
       "4                       49                     1.0                     0.0   \n",
       "...                    ...                     ...                     ...   \n",
       "494016                 255                     1.0                     0.0   \n",
       "494017                 255                     1.0                     0.0   \n",
       "494018                 255                     1.0                     0.0   \n",
       "494019                 255                     1.0                     0.0   \n",
       "494020                 255                     1.0                     0.0   \n",
       "\n",
       "        dst_host_same_src_port_rate  dst_host_srv_diff_host_rate  \\\n",
       "0                              0.11                         0.00   \n",
       "1                              0.05                         0.00   \n",
       "2                              0.03                         0.00   \n",
       "3                              0.03                         0.00   \n",
       "4                              0.02                         0.00   \n",
       "...                             ...                          ...   \n",
       "494016                         0.01                         0.05   \n",
       "494017                         0.17                         0.05   \n",
       "494018                         0.06                         0.05   \n",
       "494019                         0.04                         0.05   \n",
       "494020                         0.17                         0.05   \n",
       "\n",
       "        dst_host_serror_rate  dst_host_srv_serror_rate  dst_host_rerror_rate  \\\n",
       "0                       0.00                      0.00                   0.0   \n",
       "1                       0.00                      0.00                   0.0   \n",
       "2                       0.00                      0.00                   0.0   \n",
       "3                       0.00                      0.00                   0.0   \n",
       "4                       0.00                      0.00                   0.0   \n",
       "...                      ...                       ...                   ...   \n",
       "494016                  0.00                      0.01                   0.0   \n",
       "494017                  0.00                      0.01                   0.0   \n",
       "494018                  0.06                      0.01                   0.0   \n",
       "494019                  0.04                      0.01                   0.0   \n",
       "494020                  0.00                      0.01                   0.0   \n",
       "\n",
       "        dst_host_srv_rerror_rate  \n",
       "0                            0.0  \n",
       "1                            0.0  \n",
       "2                            0.0  \n",
       "3                            0.0  \n",
       "4                            0.0  \n",
       "...                          ...  \n",
       "494016                       0.0  \n",
       "494017                       0.0  \n",
       "494018                       0.0  \n",
       "494019                       0.0  \n",
       "494020                       0.0  \n",
       "\n",
       "[494021 rows x 38 columns]"
      ]
     },
     "execution_count": 11,
     "metadata": {},
     "output_type": "execute_result"
    }
   ],
   "source": [
    "data_df.toPandas()"
   ]
  },
  {
   "cell_type": "markdown",
   "id": "d6656fa7-b8ad-45cf-a3f7-8f8ac38676eb",
   "metadata": {},
   "source": [
    "### 1.2 Rescale\n",
    "We exploit StandardScaler method in order to rescale each column of the data so that the mean is 0."
   ]
  },
  {
   "cell_type": "code",
   "execution_count": 12,
   "id": "51cecbfa-7104-4b82-b5ca-37041793d6f2",
   "metadata": {},
   "outputs": [
    {
     "name": "stderr",
     "output_type": "stream",
     "text": [
      "                                                                                \r"
     ]
    }
   ],
   "source": [
    "feature_columns = [col for col in data_df.columns]\n",
    "# Use VectorAssembler to group all feature in a single vector column:\n",
    "vec_assembler = VectorAssembler(inputCols=feature_columns, outputCol=\"features\")\n",
    "assembled_df = vec_assembler.transform(data_df)\n",
    "scaler = StandardScaler(inputCol=\"features\", outputCol=\"scaledFeatures\", withStd=False, withMean=True)\n",
    "\n",
    "# Compute summary statistics and generate StandardScalerModel\n",
    "scalerModel = scaler.fit(assembled_df.select('features'))\n",
    "\n",
    "# Normalize each feature to have unit standard deviation and zero mean\n",
    "scaledData = scalerModel.transform(assembled_df)"
   ]
  },
  {
   "cell_type": "code",
   "execution_count": 13,
   "id": "c95c1c36-2bb6-499a-aade-79a7835ec6ff",
   "metadata": {},
   "outputs": [],
   "source": [
    "#Transform the DF so that it only has the scaled features as columns\n",
    "def extract_scale(row):\n",
    "      return tuple(row.scaledFeatures.toArray().tolist())"
   ]
  },
  {
   "cell_type": "code",
   "execution_count": 14,
   "id": "4902d1eb-2939-45cc-bfba-50036669a01a",
   "metadata": {},
   "outputs": [
    {
     "name": "stderr",
     "output_type": "stream",
     "text": [
      "                                                                                \r"
     ]
    }
   ],
   "source": [
    "data_df = scaledData.select(\"scaledFeatures\").rdd \\\n",
    "        .map(extract_scale).toDF(feature_columns)"
   ]
  },
  {
   "cell_type": "markdown",
   "id": "1be8d72c-4077-46e6-aa5c-82d9b888a365",
   "metadata": {},
   "source": [
    "### 1.3 Apply PCA"
   ]
  },
  {
   "cell_type": "markdown",
   "id": "02728793-a111-4f4a-8b20-65d9fbec5607",
   "metadata": {},
   "source": [
    "Due to the high dimensionality of our dataset, we decide to apply a dimensionality reduction before running the tests. We select dimension 20, but later we will test how the performance of the algorithm is impacted by the reduction of the number of features of the dataset."
   ]
  },
  {
   "cell_type": "code",
   "execution_count": 15,
   "id": "3bff0da5-990c-45cf-8329-e4fd08c66fbe",
   "metadata": {},
   "outputs": [],
   "source": [
    "def pca_conversion(df,num_components):\n",
    "\n",
    "    #Put all columns in one vector, this is needed to use PCA spark furnction\n",
    "    assembler = VectorAssembler(inputCols=df.columns, outputCol=\"features\")\n",
    "\n",
    "    # Transform the DataFrame using the VectorAssembler\n",
    "    df_assembled = assembler.transform(df)\n",
    "\n",
    "    # Apply PCA to reduce dimensionality to 'num_components' principal components\n",
    "    pca = PCA(k=num_components, inputCol=\"features\", outputCol=\"pca_features\")\n",
    "    model = pca.fit(df_assembled)\n",
    "    df_pca = model.transform(df_assembled)\n",
    "    \n",
    "    # Extract the PCA results from the DataFrame\n",
    "    pca_data = df_pca.select(\"pca_features\")\n",
    "\n",
    "    #Put the features in a list dividing them row per row\n",
    "    pca_features = pca_data.rdd.map(lambda row: row[0].toArray().tolist()).collect()\n",
    "\n",
    "    # The number of PCA components\n",
    "    num_pca_columns = len(pca_features[0]) \n",
    "\n",
    "    #Transform every element in the list in a row object in suche a way we can create a dataframe\n",
    "    rows = [Row(pca_features=pca_feature) for pca_feature in pca_features]\n",
    "    pandas_df = spark.createDataFrame(rows)\n",
    "\n",
    "    # Create new columns for each PCA component\n",
    "    for i in range(num_pca_columns):\n",
    "        column_name = f\"pca_{i + 1}\"\n",
    "        pandas_df = pandas_df.withColumn(column_name, col(\"pca_features\")[i])\n",
    "    \n",
    "    # Drop the original 'pca_features' column\n",
    "    pandas_df = pandas_df.drop(\"pca_features\")\n",
    "\n",
    "    window_spec = Window.orderBy(\"pca_1\")\n",
    "\n",
    "    #Put 'sample_id' as first column and we will use it as identifier\n",
    "    pandas_df= pandas_df.select(row_number().over(window_spec).alias('sample_id'),'*')\n",
    "\n",
    "    return(pandas_df)"
   ]
  },
  {
   "cell_type": "code",
   "execution_count": 16,
   "id": "dc87e9cf-4144-45c0-bf83-16630223d1ee",
   "metadata": {},
   "outputs": [
    {
     "name": "stderr",
     "output_type": "stream",
     "text": [
      "                                                                                \r"
     ]
    }
   ],
   "source": [
    "data_df_red = pca_conversion(data_df,20)"
   ]
  },
  {
   "cell_type": "code",
   "execution_count": 17,
   "id": "0510d050-ae84-4149-a38c-6faf69ff5fbd",
   "metadata": {},
   "outputs": [
    {
     "name": "stderr",
     "output_type": "stream",
     "text": [
      "[Stage 18:>                                                         (0 + 1) / 1]\r"
     ]
    },
    {
     "name": "stdout",
     "output_type": "stream",
     "text": [
      "+---------+-----+\n",
      "|sample_id|count|\n",
      "+---------+-----+\n",
      "+---------+-----+\n",
      "\n"
     ]
    },
    {
     "name": "stderr",
     "output_type": "stream",
     "text": [
      "                                                                                \r"
     ]
    }
   ],
   "source": [
    "#Check that te added identifier column is unique\n",
    "data_df_red.groupBy(col('sample_id')).count().where(col('count')!=1).show()"
   ]
  },
  {
   "cell_type": "code",
   "execution_count": 18,
   "id": "513c35a1-334d-42fb-950c-54b62eeb7a3a",
   "metadata": {},
   "outputs": [
    {
     "name": "stderr",
     "output_type": "stream",
     "text": [
      "                                                                                \r"
     ]
    },
    {
     "data": {
      "text/plain": [
       "494021"
      ]
     },
     "execution_count": 18,
     "metadata": {},
     "output_type": "execute_result"
    }
   ],
   "source": [
    "#Persist the final dataframe into memory\n",
    "data_df_red.persist().count()"
   ]
  },
  {
   "cell_type": "markdown",
   "id": "ab9532dc",
   "metadata": {},
   "source": [
    "## 2. K-means initialization algorithm"
   ]
  },
  {
   "cell_type": "markdown",
   "id": "2ac6e23b",
   "metadata": {},
   "source": [
    "### 2.1 Cost function"
   ]
  },
  {
   "cell_type": "code",
   "execution_count": 19,
   "id": "4f46dee8-105a-47dd-992b-472233bddbb9",
   "metadata": {},
   "outputs": [],
   "source": [
    "#Define a udf to perform a sum of all selected columns in a row (will be needed in min_dist_func)\n",
    "def udfSum(*cols):\n",
    "    return reduce(lambda a, b: a + b, cols)\n",
    "add_udf = udf(udfSum)"
   ]
  },
  {
   "cell_type": "code",
   "execution_count": 20,
   "id": "b357f63b-fb9d-4d56-90b7-9013b13fcc95",
   "metadata": {},
   "outputs": [],
   "source": [
    "#Function to compute minimum dist from centroid and evaluating the cost\n",
    "# Define the cost_func \n",
    "def cost_func(df1, df2):\n",
    "    \n",
    "    #Name of columns before altering\n",
    "    feature_columns = [col_n for col_n in df1.columns if col_n!='sample_id']\n",
    "\n",
    "    # Alias columns to distinguish between df1 and df2 before joining\n",
    "    \n",
    "    for col_name in df1.columns:\n",
    "        df1 = df1.withColumnRenamed(col_name, f\"data_{col_name}\")\n",
    "    \n",
    "    for col_name in df2.columns:\n",
    "        df2 = df2.withColumnRenamed(col_name, f\"centroid_{col_name}\")\n",
    "\n",
    "\n",
    "    \"\"\" STEP 1: Perform cartesian product and compute the pairwise squared euclidean distance for each column\"\"\"\n",
    "    result_df = df1.crossJoin(df2)\n",
    "\n",
    "    diff_columns = [\n",
    "        ((col(f\"data_{col_name}\") - col(f\"centroid_{col_name}\"))**2).alias(f\"dist_{col_name}\")\n",
    "        for col_name in feature_columns\n",
    "        ]\n",
    "    result_df = result_df.select(\"data_sample_id\", \"centroid_sample_id\", *diff_columns)\n",
    "\n",
    "\n",
    "    \n",
    "    \"\"\" STEP 2: To get the total distance we need to sum for each row all the columns (except the IDs) \"\"\"\n",
    "    \n",
    "    columns_to_sum = [col_name for col_name in result_df.columns if col_name not in ['data_sample_id', 'centroid_sample_id']]\n",
    "    result_df = result_df.withColumn('total_distance', add_udf(*[result_df[x] for x in columns_to_sum])) \\\n",
    "                         .select(\"data_sample_id\", \"centroid_sample_id\", \"total_distance\")\n",
    "\n",
    "    \n",
    "\n",
    "    \"\"\" STEP 3: Find the minimum distance for each sample and sum them up \"\"\"\n",
    "    #Add minimum distance for each row of data_df\n",
    "    window_spec = Window.partitionBy(\"data_sample_id\")    # Create a window partitioned by \"sample_id\"\n",
    "    min_distance_df = result_df.withColumn(\"min_distance\", min(\"total_distance\").over(window_spec))\n",
    "                          \n",
    "    cost = min_distance_df.agg(sum(\"min_distance\")).collect()[0][0]\n",
    "    \n",
    "    return (min_distance_df,cost)\n",
    "    "
   ]
  },
  {
   "cell_type": "markdown",
   "id": "70a3356c",
   "metadata": {},
   "source": [
    "### 2.2 Random initialization"
   ]
  },
  {
   "cell_type": "code",
   "execution_count": 21,
   "id": "4e022c09",
   "metadata": {},
   "outputs": [],
   "source": [
    "def base_init(df, n_clusters):\n",
    "    # Sample n_clusters different points from the distinct features DataFrame\n",
    "    \n",
    "    centroids = df.rdd.takeSample(False, n_clusters)\n",
    "    schema1 = df.columns\n",
    "    centroids = spark.createDataFrame(data=centroids, schema = schema1)\n",
    "   \n",
    "    #sample(withReplacement=False, fraction=1.0, seed=42).limit(n_clusters)\n",
    "    \n",
    "    # Calculate the cost by applying the min_dist_func to each row\n",
    "    _,cost = cost_func(df,centroids)\n",
    "\n",
    "    \n",
    "    return (centroids, cost)"
   ]
  },
  {
   "cell_type": "markdown",
   "id": "3d989dc8",
   "metadata": {},
   "source": [
    "### 2.3 k-means ++ initialization "
   ]
  },
  {
   "cell_type": "code",
   "execution_count": 22,
   "id": "efa03a5e",
   "metadata": {},
   "outputs": [],
   "source": [
    "def kmeans_pp_init(df,k=10):\n",
    "    \n",
    "    \"\"\" Plus-plus initialization\n",
    "    \n",
    "    Parameters:\n",
    "      df                      ndarrays data \n",
    "      k                       number of clusters\n",
    "    Returns:\n",
    "      \"centroids\"             the k centroids\n",
    "\n",
    "    \"\"\"\n",
    "    \n",
    "     # Randomly select the first centroid from the data points\n",
    "    centroid = df.rdd.takeSample(False, 1)\n",
    "    schema = df.columns\n",
    "    centroids = spark.createDataFrame(data=centroid, schema = schema)\n",
    "      \n",
    "    for i in range(k-1):\n",
    "        #For each data point compute its distance from the nearest, previously chosen centroid\n",
    "        distance_df, _ = cost_func(df, centroids)\n",
    "        distance_df = distance_df.withColumn(\"min_distance\", col(\"min_distance\").cast(\"float\")) #to float\n",
    "        distances_list = distance_df.orderBy('data_sample_id').select(\"min_distance\").distinct().rdd.flatMap(lambda x: x).collect()  #to numpy array\n",
    "        distances_array = np.array(distances_list)\n",
    "\n",
    "        # normalize distances to get the probability of getting each point of the dataframe as new centroid\n",
    "        total_distance = np.sum(distances_array)\n",
    "        probabilities = distances_array / total_distance\n",
    "        \n",
    "        # Select the next centroid from the data points such that the probability of choosing a point as centroid is \n",
    "        # directly proportional to its distance from the nearest, previously chosen centroid.\n",
    "        next_centroid_index = np.random.choice(len(probabilities), replace=False, p=probabilities)\n",
    "        next_centroid = df.filter(df[\"sample_id\"] == next_centroid_index)  \n",
    "        \n",
    "        # Add new centroid to the dataframe\n",
    "        centroids = centroids.union(next_centroid)\n",
    "        \n",
    "        # Repeat to pick the remaining k-1 points ...\n",
    "        \n",
    "    return centroids"
   ]
  },
  {
   "cell_type": "markdown",
   "id": "96ba2b9f",
   "metadata": {},
   "source": [
    "### 2.4 k-means || initialization"
   ]
  },
  {
   "cell_type": "code",
   "execution_count": 23,
   "id": "87ace30e",
   "metadata": {},
   "outputs": [],
   "source": [
    "def parallel_init(df, k, l):\n",
    "    \n",
    "    \"\"\" Parallel initialization\n",
    "    \n",
    "    Parameters:\n",
    "      df                      ndarrays data \n",
    "      k                       number of clusters\n",
    "      l                       clusters sampled in each for loop\n",
    "      \n",
    "    Returns:\n",
    "      \"k_centroids\"         the reclustered k centroids\n",
    "\n",
    "    \"\"\"\n",
    "\n",
    "    # Sample a point uniformly at random from the dataframe, and assuming it as initial centroid\n",
    "    centroids = df.rdd.takeSample(False, 1)\n",
    "    schema = df.columns\n",
    "    centroids = spark.createDataFrame(data=centroids, schema = schema)\n",
    "    dist_df, current_cost = cost_func(df,centroids)\n",
    "    \n",
    "    \n",
    "    \"\"\" Part 1: SAMPLING Log(current_cost) CENTROIDS \"\"\"\n",
    "    r = int(np.log10(current_cost))\n",
    "    for i in range(r):\n",
    "        \n",
    "        dist_df = dist_df.withColumnRenamed('data_sample_id','sample_id') \\\n",
    "                        .drop('total_distance','centroid_sample_id').distinct()\n",
    "\n",
    "        # Calculate the weights for each row\n",
    "        dist_df = dist_df.withColumn(\"weight\",l*col('min_distance')/current_cost).drop('min_distance')\n",
    "    \n",
    "        # Rescale the weights to probabilities between 0 and 1     \n",
    "        distances_list = dist_df.select(\"weight\").rdd.flatMap(lambda x: x).collect()  #to numpy array\n",
    "        distances_array = np.array(distances_list)\n",
    "\n",
    "        # normalize distances to get the probability of getting each point of the dataframe as new centroid\n",
    "        total_weight = np.sum(distances_array)\n",
    "        probabilities = distances_array / total_weight\n",
    "        \n",
    "        # Select the next centroid from the data points such that the probability of choosing a point as centroid is \n",
    "        # directly proportional to its distance from the nearest, previously chosen centroid.\n",
    "        next_centroid_index = np.random.choice(len(probabilities), replace=False, p=probabilities, size=l)\n",
    "        next_centroid_index = [float(x) for x in next_centroid_index]\n",
    "        \n",
    "        next_centroids = df.filter(col(\"sample_id\").isin(next_centroid_index))\n",
    "        \n",
    "        # Add new centroid to the list and update the variable for next loop\n",
    "        centroids = centroids.union(next_centroids)\n",
    "        \n",
    "        # Calculate the cost of assuming the initial centroid\n",
    "        dist_df, current_cost = cost_func(df,centroids)\n",
    "     \n",
    "    \n",
    "    \"\"\" Part 2: RECLUSTERING \"\"\"\n",
    "    min_distance_df, _ = cost_func(df,centroids)\n",
    "    \n",
    "    #Select first random centroid\n",
    "    k_centroids = centroids.rdd.takeSample(False, 1)\n",
    "    schema = centroids.columns\n",
    "    k_centroids = spark.createDataFrame(data=k_centroids, schema = schema)\n",
    "      \n",
    "    # Filter only the rows where the distance is the minimum distance\n",
    "    min_distance_df = min_distance_df.filter(col(\"total_distance\") == col(\"min_distance\")) \n",
    "    min_distance_df.persist().count()\n",
    "    \n",
    "    # Count for each centroid the number of rows for which it is the closest\n",
    "    centroid_count = min_distance_df.groupBy(col(\"centroid_sample_id\")) \\\n",
    "                                    .agg(count(\"data_sample_id\").alias(\"weight\")) \\\n",
    "                                    .withColumnRenamed(\"centroid_sample_id\",\"sample_id\")\n",
    "\n",
    "    min_distance_df.unpersist()\n",
    "    #join to get back features\n",
    "    centr_tosample = centroid_count.join(centroids, 'sample_id', 'inner')\n",
    "    \n",
    "    #rename the id to have ordered id for sampling\n",
    "    window_spec = Window.orderBy(\"sample_id\")\n",
    "    centr_tosample = centr_tosample.withColumn(\"sample_id\", row_number().over(window_spec))\n",
    "    \n",
    "    # Rescale the weights to probabilities between 0 and 1     \n",
    "    weights_list = centr_tosample.select(\"weight\").rdd.flatMap(lambda x: x).collect()  #to numpy array\n",
    "    weights_array = np.array(weights_list)\n",
    "\n",
    "    # normalize distances to get the probability of getting each point of the dataframe as new centroid\n",
    "    total_weight = np.sum(weights_array)\n",
    "    probabilities = weights_array / total_weight\n",
    "        \n",
    "    # Select the next centroid from the data points such that the probability of choosing a point as centroid is \n",
    "    # directly proportional to its distance from the nearest, previously chosen centroid.\n",
    "    next_centroid_index = np.random.choice(len(probabilities), replace=False, p=probabilities, size=k-1)\n",
    "    next_centroid_index = [float(x) for x in next_centroid_index]\n",
    "        \n",
    "    next_centroids = centr_tosample.drop('weight').filter(col(\"sample_id\").isin(next_centroid_index))\n",
    "\n",
    "    k_centroids = k_centroids.union(next_centroids)\n",
    "    \n",
    "    return (k_centroids)            \n"
   ]
  },
  {
   "cell_type": "markdown",
   "id": "50a2dfb5",
   "metadata": {},
   "source": [
    "## 3. Lloyd clustering algorithm"
   ]
  },
  {
   "cell_type": "code",
   "execution_count": 24,
   "id": "cc59f14c",
   "metadata": {},
   "outputs": [],
   "source": [
    "def KMeans(df, k, l, max_iter, break_perc, random, parallel, plusplus, \\\n",
    "          check_convergence, verbose): \n",
    "    \n",
    "    \"\"\" Apply the KMeans clustering algorithm\n",
    "    \n",
    "    Parameters:\n",
    "      df                          ndarrays data \n",
    "      k                           number of cluster\n",
    "      r,l                         parameters for parallel init.\n",
    "      max_iter                    maximum number of iterations\n",
    "      break_perc                  percentage used to check convergence\n",
    "      random,parallel,plusplus    if 'True' defines the initialization algorithm\n",
    "      check_convergence           if 'True', stops after reaching convergence\n",
    "    \n",
    "    Returns:\n",
    "      \"cost_array\"                array with cost for each iteration    \n",
    "      \"centroids\"                 the final centroids finded by KMeans  \n",
    "    \"\"\"\n",
    "    \n",
    "    check=0\n",
    "    cost_array = [] # initialize to inf so the first iteration will surely not interrupt due to convergence\n",
    "    \n",
    "    ## first iteration only\n",
    "    if random == True:\n",
    "        centroids, _ = base_init(df, k)            # Kmeans Random initial centroids\n",
    "    if parallel == True:\n",
    "        centroids = parallel_init(df, k, l)  # Kmeans|| initial centroids \n",
    "    if plusplus == True:\n",
    "        centroids = kmeans_pp_init(df,k)           # Kmeans++ initial centroids \n",
    "            \n",
    "    min_distance_df, cost = cost_func(df, centroids) # compute cost and final_df containing distances\n",
    "    cost_array.append(cost) \n",
    "    iterations = 1\n",
    "    \n",
    "    while iterations <= max_iter:        \n",
    "\n",
    "        ## give cluster label to each point     \n",
    "        min_distance_df = min_distance_df.filter(col(\"total_distance\") == col(\"min_distance\"))# Filter only the rows where the distance is the minimum distance\n",
    "        min_distance_df = min_distance_df.select(col(\"data_sample_id\"), col(\"centroid_sample_id\"), col(\"min_distance\"))# Select only the desired columns and rename the \"row_id_df2\" column to 'cluster'\n",
    "        min_distance_df.persist().count()\n",
    "        \n",
    "        ## concatenate the dataframe-with-cluster-number with kdd_99 dataframe for semplicity of application of next function\n",
    "        data_df_copy = df\n",
    "        data_df_copy = data_df_copy.withColumnRenamed('sample_id', 'data_sample_id') #little rename of the index col\n",
    "        common_key = \"data_sample_id\"  \n",
    "        concatenated_df = data_df_copy.join(min_distance_df, on=common_key, how=\"inner\")\n",
    "\n",
    "        min_distance_df.unpersist()\n",
    "        ##compute new centroids\n",
    "        ignored_cols = [\"data_sample_id\",\"centroid_sample_id\",\"min_distance\"]\n",
    "        newCentroids = concatenated_df.groupBy(\"centroid_sample_id\").mean().select(*[col(\"avg(\"+c+\")\") for c in concatenated_df.columns if c not in ignored_cols])\n",
    "        centroids = newCentroids\n",
    "        \n",
    "        ## Use withColumnRenamed on df 'centroids' to set the new column names (without the avg)\n",
    "        ignored_cols = [\"data_sample_id\",\"centroid_sample_id\",\"min_distance\"]\n",
    "        new_column_names = [col_name for col_name in concatenated_df.columns if col_name not in ignored_cols]\n",
    "\n",
    "        for old_col, new_col in zip(centroids.columns, new_column_names):\n",
    "            centroids = centroids.withColumnRenamed(old_col, new_col)\n",
    "\n",
    "        \n",
    "        ## compute the cost of the new configuration of centroids\n",
    "        centroids = centroids.withColumn(\"sample_id\", monotonically_increasing_id())\n",
    "        min_distance_df, newcost = cost_func(df, centroids)\n",
    "        cost_array.append(newcost)\n",
    "        \n",
    "        ## break if the cost hasn't changed too much in the last iteration\n",
    "        #if newcost > cost_array[-1]*1.3:\n",
    "            #newcost = cost_array[-1]\n",
    "            #cost_array.append(newcost)\n",
    "        #else : \n",
    "            #cost_array.append(newcost)\n",
    "        \n",
    "        if verbose:\n",
    "            print('Iteration number ',iterations, ', cost --> ', newcost)\n",
    "            \n",
    "        if check_convergence==True and check<3:\n",
    "            if iterations > 0 and cost_array[-2] is not None and cost_array[-1] is not None:\n",
    "                if cost_array[-1] / cost_array[-2] > break_perc:\n",
    "                    check+=1\n",
    "                    if check==3:\n",
    "                        print('Reached convergence at iteration: ',iterations)\n",
    "        \n",
    "        iterations += 1\n",
    "        \n",
    "    return(cost_array, centroids, min_distance_df)"
   ]
  },
  {
   "cell_type": "code",
   "execution_count": 27,
   "id": "22a7480d",
   "metadata": {},
   "outputs": [],
   "source": [
    "def get_clusters(min_distance_df, kdd_10):\n",
    "    # Select the 'labels' and 'sample_id' columns from kdd_10\n",
    "    labels = kdd_10.select('labels', 'sample_id')\n",
    "    \n",
    "    # Filter min_distance_df to keep only rows where 'total_distance' is equal to 'min_distance'\n",
    "    min_distance_df = min_distance_df.filter(col(\"total_distance\") == col(\"min_distance\"))\n",
    "    \n",
    "    # Select only the desired columns and rename 'data_sample_id' to 'sample_id'\n",
    "    min_distance_df = min_distance_df.select(col(\"data_sample_id\"), col(\"centroid_sample_id\"), col(\"min_distance\"))\n",
    "    min_distance_df = min_distance_df.withColumnRenamed('data_sample_id', 'sample_id')\n",
    "    \n",
    "    # Join min_distance_df with labels on 'sample_id' to get the actual clusters\n",
    "    clusters_df = min_distance_df.join(labels, on='sample_id', how=\"inner\")\n",
    "    \n",
    "    # Count the samples in each cluster\n",
    "    result_df = clusters_df.groupBy(\"labels\", \"centroid_sample_id\").count().orderBy(\"centroid_sample_id\")\n",
    "    \n",
    "    return result_df\n"
   ]
  },
  {
   "cell_type": "markdown",
   "id": "7a558c28",
   "metadata": {},
   "source": [
    "# Tests\n",
    "- for all initializations we perform 5 Lloyd iterations, in order to compare the runtime, the cost behaviour and the number of iterations needed for convergence (for reasonable value of k, l);\n",
    "- for kmeans || initialization we test the running time vs number of partitions (for reasonable value of k, l);\n",
    "- for kmeans || initialization we test the performance in terms of cost and running time for different combinations of l and k;"
   ]
  },
  {
   "cell_type": "markdown",
   "id": "39d09224",
   "metadata": {},
   "source": [
    "## 1. Comparing initializations"
   ]
  },
  {
   "cell_type": "markdown",
   "id": "8fa8834f-c013-4559-bbc0-646ced8d0128",
   "metadata": {},
   "source": [
    "In the first phases of testing we perform a run of Lloyd algorithm for 5 iterations.    \n",
    "In this run, we test how the cost, the time, and the iterations needed to reach convergence scale with the different initialization methods.    \n",
    "Since our main goal in this phase of the work is to see the comparison between methods, we use 'arbitrary' but relatively small values for the parameters, in order to reduce the computational time; specifically, we set:\n",
    "- $k=15$\n",
    "- $l=3$"
   ]
  },
  {
   "cell_type": "markdown",
   "id": "c3ddb426-5045-46fb-a45c-50056ceac18f",
   "metadata": {},
   "source": [
    "### - Random initialization"
   ]
  },
  {
   "cell_type": "code",
   "execution_count": 29,
   "id": "4c0927af-28f5-4f9f-8cb7-e6a7f1a3f7df",
   "metadata": {},
   "outputs": [
    {
     "name": "stderr",
     "output_type": "stream",
     "text": [
      "                                                                                \r"
     ]
    },
    {
     "name": "stdout",
     "output_type": "stream",
     "text": [
      "Reached convergence at iteration:  3\n"
     ]
    },
    {
     "name": "stderr",
     "output_type": "stream",
     "text": [
      "[Stage 336:=========================>                               (4 + 4) / 9]\r"
     ]
    },
    {
     "name": "stdout",
     "output_type": "stream",
     "text": [
      "Runtime for random initialization:  759.5717377662659\n"
     ]
    },
    {
     "name": "stderr",
     "output_type": "stream",
     "text": [
      "                                                                                \r"
     ]
    }
   ],
   "source": [
    "#Random initialization\n",
    "start = time.time()\n",
    "random_cost, _, _ =  KMeans(df=data_df_red, k=15, l=3, max_iter = 5, break_perc=.98, \\\n",
    "                  random=True, parallel=False, plusplus=False, check_convergence=True, verbose=False) \n",
    "end = time.time()\n",
    "time_rand = (end-start)\n",
    "y1 = random_cost\n",
    "np.savetxt(\"test0_rand_cost5.txt\", y1)\n",
    "print('Runtime for random initialization: ',time_rand)"
   ]
  },
  {
   "cell_type": "code",
   "execution_count": 30,
   "id": "7e3ecd3a-6fa4-4de3-946f-b3f2115ed16a",
   "metadata": {},
   "outputs": [
    {
     "data": {
      "image/png": "[encoded data removed]",
      "text/plain": [
       "<Figure size 800x600 with 1 Axes>"
      ]
     },
     "metadata": {},
     "output_type": "display_data"
    }
   ],
   "source": [
    "#Plot\n",
    "x = np.arange(0,len(y1))\n",
    "\n",
    "plt.figure(figsize=(8, 6))\n",
    "plt.plot(x, y1, label='Random initialization', linestyle='-', marker='o', markersize=5, color='purple', lw=1)\n",
    "plt.title(\"Random initialization\",fontsize=15)\n",
    "plt.xlabel('Iteration number', fontsize=12)\n",
    "plt.ylabel('Cost', fontsize=12)\n",
    "plt.grid(axis='y', linestyle='-', alpha=0.2)\n",
    "plt.show()"
   ]
  },
  {
   "cell_type": "markdown",
   "id": "11c472b1-7957-4d1d-8f9f-d52f00039a6e",
   "metadata": {},
   "source": [
    "### - K-means++ initialization"
   ]
  },
  {
   "cell_type": "code",
   "execution_count": 31,
   "id": "e9947e36-3ab1-4d1e-a28d-551d817143a9",
   "metadata": {},
   "outputs": [
    {
     "name": "stderr",
     "output_type": "stream",
     "text": [
      "                                                                                \r"
     ]
    },
    {
     "name": "stdout",
     "output_type": "stream",
     "text": [
      "Reached convergence at iteration:  4\n"
     ]
    },
    {
     "name": "stderr",
     "output_type": "stream",
     "text": [
      "                                                                                \r"
     ]
    },
    {
     "name": "stdout",
     "output_type": "stream",
     "text": [
      "Runtime for kmeans++ initialization:  993.4863095283508\n"
     ]
    }
   ],
   "source": [
    "#K-means++ initialization\n",
    "start = time.time()\n",
    "plusplus_cost, _, _ =  KMeans(df=data_df_red, k=15, l=3, max_iter = 5, break_perc=.98, \\\n",
    "                  random=False, parallel=False, plusplus=True, check_convergence=True, verbose=False) \n",
    "end = time.time()\n",
    "time_pp = (end-start)\n",
    "y2 = plusplus_cost\n",
    "np.savetxt(\"test0_pp_cost.txt\", y2)\n",
    "print('Runtime for kmeans++ initialization: ',time_pp)"
   ]
  },
  {
   "cell_type": "code",
   "execution_count": 32,
   "id": "89c03544-510f-4d29-a69b-d2ed05383ed8",
   "metadata": {},
   "outputs": [
    {
     "data": {
      "image/png": "[encoded data removed]",
      "text/plain": [
       "<Figure size 800x600 with 1 Axes>"
      ]
     },
     "metadata": {},
     "output_type": "display_data"
    }
   ],
   "source": [
    "#Plot\n",
    "x = np.arange(0,len(y2))\n",
    "\n",
    "plt.figure(figsize=(8, 6))\n",
    "plt.plot(x, y2, label='Plusplus initialization', linestyle='-', marker='o', markersize=5, color='orange', lw=1)\n",
    "plt.title(\"Plusplus initialization\",fontsize=15)\n",
    "plt.xlabel('Iteration number', fontsize=12)\n",
    "plt.ylabel('Cost', fontsize=12)\n",
    "plt.grid(axis='y', linestyle='-', alpha=0.2)\n",
    "plt.show()"
   ]
  },
  {
   "cell_type": "markdown",
   "id": "1f8c8b13-065f-400b-a457-35f44c745baf",
   "metadata": {},
   "source": [
    "### - K-means// initialization"
   ]
  },
  {
   "cell_type": "code",
   "execution_count": 33,
   "id": "1848dcf8-b43e-4893-a439-f8b82d5f7bf5",
   "metadata": {},
   "outputs": [
    {
     "name": "stderr",
     "output_type": "stream",
     "text": [
      "                                                                                \r"
     ]
    },
    {
     "name": "stdout",
     "output_type": "stream",
     "text": [
      "Reached convergence at iteration:  3\n"
     ]
    },
    {
     "name": "stderr",
     "output_type": "stream",
     "text": [
      "                                                                                \r"
     ]
    },
    {
     "name": "stdout",
     "output_type": "stream",
     "text": [
      "Runtime for kmeans// initialization:  2031.0286881923676\n"
     ]
    }
   ],
   "source": [
    "#K-means //\n",
    "start = time.time()\n",
    "par_cost, _, _ =  KMeans(df=data_df_red, k=15, l=3, max_iter = 5, break_perc=.98, \\\n",
    "                  random=False, parallel=True, plusplus=False, check_convergence=True, verbose=False) \n",
    "end = time.time()\n",
    "time_par = (end-start)\n",
    "y3 = par_cost\n",
    "np.savetxt(\"test0_par_cost.txt\", y3)\n",
    "print('Runtime for kmeans// initialization: ',time_par)"
   ]
  },
  {
   "cell_type": "code",
   "execution_count": 34,
   "id": "bdc965cf-725a-4255-8de6-da3579904dfe",
   "metadata": {},
   "outputs": [
    {
     "data": {
      "image/png": "[encoded data removed]",
      "text/plain": [
       "<Figure size 800x600 with 1 Axes>"
      ]
     },
     "metadata": {},
     "output_type": "display_data"
    }
   ],
   "source": [
    "#Plot\n",
    "x = np.arange(0,len(y3))\n",
    "\n",
    "plt.figure(figsize=(8, 6))\n",
    "plt.plot(x, y3, label='Parallel initialization', linestyle='-', marker='o', markersize=5, color='forestgreen', lw=1)\n",
    "plt.title(\"Parallel initialization\",fontsize=15)\n",
    "plt.xlabel('Iteration number', fontsize=12)\n",
    "plt.ylabel('Cost', fontsize=12)\n",
    "plt.grid(axis='y', linestyle='-', alpha=0.2)\n",
    "plt.show()"
   ]
  },
  {
   "cell_type": "markdown",
   "id": "12718674-7b68-43b9-9516-a1f0ca69de64",
   "metadata": {},
   "source": [
    "### $\\bullet$ Comparing performances"
   ]
  },
  {
   "cell_type": "code",
   "execution_count": 35,
   "id": "d3ffc2a6-9c01-4575-a927-0ed415001fd6",
   "metadata": {},
   "outputs": [
    {
     "name": "stdout",
     "output_type": "stream",
     "text": [
      "Time(s) for different initializations: \n"
     ]
    },
    {
     "data": {
      "text/html": [
       "<div>\n",
       "<style scoped>\n",
       "    .dataframe tbody tr th:only-of-type {\n",
       "        vertical-align: middle;\n",
       "    }\n",
       "\n",
       "    .dataframe tbody tr th {\n",
       "        vertical-align: top;\n",
       "    }\n",
       "\n",
       "    .dataframe thead th {\n",
       "        text-align: right;\n",
       "    }\n",
       "</style>\n",
       "<table border=\"1\" class=\"dataframe\">\n",
       "  <thead>\n",
       "    <tr style=\"text-align: right;\">\n",
       "      <th></th>\n",
       "      <th>random</th>\n",
       "      <th>plusplus</th>\n",
       "      <th>parallel</th>\n",
       "    </tr>\n",
       "  </thead>\n",
       "  <tbody>\n",
       "    <tr>\n",
       "      <th>0</th>\n",
       "      <td>759.571738</td>\n",
       "      <td>993.48631</td>\n",
       "      <td>2031.028688</td>\n",
       "    </tr>\n",
       "  </tbody>\n",
       "</table>\n",
       "</div>"
      ],
      "text/plain": [
       "       random   plusplus     parallel\n",
       "0  759.571738  993.48631  2031.028688"
      ]
     },
     "execution_count": 35,
     "metadata": {},
     "output_type": "execute_result"
    }
   ],
   "source": [
    "times = [[ 759.5717377662659,993.4863095283508,2031.0286881923676]]\n",
    "times_df = pd.DataFrame(times, columns=['random', 'plusplus', 'parallel'])\n",
    "print('Time(s) for different initializations: ')\n",
    "times_df"
   ]
  },
  {
   "cell_type": "markdown",
   "id": "42f00ee9-97e3-4101-9bcb-7b415ddce40c",
   "metadata": {},
   "source": [
    "The results obtained suggest that the Random initialization is faster than the Parallel initialization; we could compare the final cost and notice that the cost after the parallel initialization is lower that the one after the random initialization, however, the behaviour of the cost in all cases suggests that the number of iterations of Lloyd performed are too low to reach convergence and therefore to have a significative estimate of the cost.    \n",
    "We see a peak both in the random and parallel case, which leads us to believe that the algorithm is far from convergence and that our convergence condition is too 'weak'. To really perform an efficient comparison between the methods, we should test the algorithm for a larger number of iterations, but due to the computational time of our algorithm and the network instability we were not able to do so."
   ]
  },
  {
   "cell_type": "markdown",
   "id": "3b6c1472",
   "metadata": {},
   "source": [
    "## 2. Run time vs number of partitions"
   ]
  },
  {
   "cell_type": "code",
   "execution_count": null,
   "id": "e03116fb",
   "metadata": {},
   "outputs": [
    {
     "name": "stdout",
     "output_type": "stream",
     "text": [
      "Working with 8 partitions\n"
     ]
    },
    {
     "name": "stderr",
     "output_type": "stream",
     "text": [
      "                                                                                8]\r"
     ]
    },
    {
     "name": "stdout",
     "output_type": "stream",
     "text": [
      "Reached convergence at iteration:  3\n"
     ]
    },
    {
     "name": "stderr",
     "output_type": "stream",
     "text": [
      "                                                                                8]\r"
     ]
    },
    {
     "name": "stdout",
     "output_type": "stream",
     "text": [
      "Parallel init done in 3911.6796283721924 s\n",
      "Working with 16 partitions\n"
     ]
    },
    {
     "name": "stderr",
     "output_type": "stream",
     "text": [
      "                                                                                 16]\r"
     ]
    },
    {
     "name": "stdout",
     "output_type": "stream",
     "text": [
      "Reached convergence at iteration:  3\n"
     ]
    },
    {
     "name": "stderr",
     "output_type": "stream",
     "text": [
      "                                                                                6]6]\r"
     ]
    },
    {
     "name": "stdout",
     "output_type": "stream",
     "text": [
      "Parallel init done in 7231.708043575287 s\n",
      "Working with 64 partitions\n"
     ]
    },
    {
     "name": "stderr",
     "output_type": "stream",
     "text": [
      "[Stage 1967:================>                                (4259 + 4) / 12800]\r"
     ]
    }
   ],
   "source": [
    "partitions = [8, 16, 64]\n",
    "parallel_part = []\n",
    "\n",
    "#k = 15\n",
    "#iter_avg = 5\n",
    "\n",
    "for i, n_parts in enumerate(partitions):\n",
    "    print(f\"Working with {n_parts} partitions\")\n",
    "    kdd_repart = data_df_red.repartition(n_parts).persist()\n",
    "    kdd_repart.count()\n",
    "    \n",
    "    #parallel\n",
    "    start = time.time()\n",
    "    _, _, _ =  KMeans(df=kdd_repart, k=15, l=3, max_iter = 5, break_perc=.98, \\\n",
    "                  random=False, parallel=True, plusplus=False, check_convergence=True, verbose=False)\n",
    "    end = time.time()\n",
    "    parallel_part.append((end - start))\n",
    "    print(f\"Parallel init done in {end - start} s\")\n",
    "    \n",
    "    kdd_repart.unpersist()\n",
    "        \n",
    "# save to file\n",
    "np.savetxt(\"parallel_part.txt\", parallel_part)\n"
   ]
  },
  {
   "cell_type": "code",
   "execution_count": 37,
   "id": "d07bd10e-67d8-40fe-af01-840d79c1fbf8",
   "metadata": {},
   "outputs": [
    {
     "name": "stdout",
     "output_type": "stream",
     "text": [
      "Working with 4 partitions\n"
     ]
    },
    {
     "name": "stderr",
     "output_type": "stream",
     "text": [
      "                                                                                \r"
     ]
    },
    {
     "name": "stdout",
     "output_type": "stream",
     "text": [
      "Reached convergence at iteration:  3\n"
     ]
    },
    {
     "name": "stderr",
     "output_type": "stream",
     "text": [
      "[Stage 957:=========================>                               (4 + 4) / 9]\r"
     ]
    },
    {
     "name": "stdout",
     "output_type": "stream",
     "text": [
      "Parallel init done in 2752.6009624004364 s\n"
     ]
    },
    {
     "name": "stderr",
     "output_type": "stream",
     "text": [
      "                                                                                \r"
     ]
    }
   ],
   "source": [
    "partitions = [4]\n",
    "parallel_part = []\n",
    "\n",
    "\n",
    "for i, n_parts in enumerate(partitions):\n",
    "    print(f\"Working with {n_parts} partitions\")\n",
    "    kdd_repart = data_df_red.repartition(n_parts).persist()\n",
    "    kdd_repart.count()\n",
    "    \n",
    "    #parallel\n",
    "    start = time.time()\n",
    "    _, _, _ =  KMeans(df=kdd_repart, k=15, l=3, max_iter = 5, break_perc=.98, \\\n",
    "                  random=False, parallel=True, plusplus=False, check_convergence=True, verbose=False)\n",
    "    end = time.time()\n",
    "    parallel_part.append((end - start))\n",
    "    print(f\"Parallel init done in {end - start} s\")\n",
    "    \n",
    "    kdd_repart.unpersist()\n",
    "        \n",
    "# save to file\n",
    "np.savetxt(\"parallel_part_4.txt\", parallel_part)"
   ]
  },
  {
   "cell_type": "markdown",
   "id": "a41f239f-e116-461d-8560-3bb8fb66c9e9",
   "metadata": {},
   "source": [
    "### $\\bullet$ Comparing results"
   ]
  },
  {
   "cell_type": "code",
   "execution_count": 38,
   "id": "6facb726",
   "metadata": {},
   "outputs": [
    {
     "data": {
      "image/png": "[encoded data removed]",
      "text/plain": [
       "<Figure size 800x600 with 1 Axes>"
      ]
     },
     "metadata": {},
     "output_type": "display_data"
    }
   ],
   "source": [
    "#Parallel initialization\n",
    "x = [4,8,16]\n",
    "y = [2752.6009624004364,3911.6796283721924,7231.708043575287]\n",
    "\n",
    "plt.figure(figsize=(8, 6))\n",
    "plt.plot(x, y, linestyle='-', marker='o', markersize=5, color='blue',lw=1)\n",
    "plt.xlabel('Number of partitions', fontsize=12)\n",
    "plt.ylabel('Time (s)', fontsize=12)\n",
    "plt.grid(axis='y', linestyle='-', alpha=0.2)\n",
    "plt.show()"
   ]
  },
  {
   "cell_type": "markdown",
   "id": "2085f6bb-871f-4e22-a901-d06aab29d7e5",
   "metadata": {},
   "source": [
    "Due to network stability problems we were not able to test the algorithm with a higher number of partitions, the result obtained however suggest that we would not have obtained a parabolic (or a decreasing) behaviour. We see, in fact, a rising trend, proportional to the number of partitions used; this might suggest that the parallel algorithm we implemented is not sufficiently parallelized.    \n",
    "If the parallelization is optimal, in fact, we should expect the runtime to decreas with the number of partitions, untili it reaches a minimum, and then to start rising again."
   ]
  },
  {
   "cell_type": "markdown",
   "id": "e88c6541",
   "metadata": {},
   "source": [
    "## 3. Cost varying the algorithm "
   ]
  },
  {
   "cell_type": "markdown",
   "id": "edf4afd7-8f64-46e6-bf81-e8885fba33b2",
   "metadata": {},
   "source": [
    "After selecting the optimal number of partitions, we proceed with the observation of the performance of the algorithm varying its parameters $k$ and $l$. Specifically, we set $l\\sim 0.25k$ for each $k$:\n",
    "- $k=20$, $l=5$\n",
    "- $k=30$, $l=7$\n",
    "- $k=50$, $l=12$"
   ]
  },
  {
   "cell_type": "code",
   "execution_count": 39,
   "id": "1e3fc6b7-3729-4cd3-8512-a134204a74fc",
   "metadata": {},
   "outputs": [
    {
     "name": "stderr",
     "output_type": "stream",
     "text": [
      "                                                                                \r"
     ]
    },
    {
     "data": {
      "text/plain": [
       "DataFrame[sample_id: int, pca_1: double, pca_2: double, pca_3: double, pca_4: double, pca_5: double, pca_6: double, pca_7: double, pca_8: double, pca_9: double, pca_10: double, pca_11: double, pca_12: double, pca_13: double, pca_14: double, pca_15: double, pca_16: double, pca_17: double, pca_18: double, pca_19: double, pca_20: double]"
      ]
     },
     "execution_count": 39,
     "metadata": {},
     "output_type": "execute_result"
    }
   ],
   "source": [
    "#data repartitioned\n",
    "kdd_repart = data_df_red.repartition(4).persist()\n",
    "kdd_repart.count()\n",
    "\n",
    "#unpersist old df\n",
    "data_df_red.unpersist()"
   ]
  },
  {
   "cell_type": "markdown",
   "id": "7547ee0b-dae3-4806-a551-2acdbc4a7bd4",
   "metadata": {},
   "source": [
    "### $\\bullet \\quad k=20$"
   ]
  },
  {
   "cell_type": "code",
   "execution_count": 40,
   "id": "790cbfbf",
   "metadata": {},
   "outputs": [
    {
     "name": "stderr",
     "output_type": "stream",
     "text": [
      "                                                                                \r"
     ]
    }
   ],
   "source": [
    "# k=20\n",
    "result_data_P = []\n",
    "\n",
    "# Test parameters\n",
    "k = 20\n",
    "l = 5\n",
    "max_iterations = 5\n",
    "seed = []\n",
    "final = []\n",
    "\n",
    "    \n",
    "# Run KMeans with parallel initialization \n",
    "start = time.time()\n",
    "parallel_cost, _, _ =  KMeans(df=kdd_repart, k=20, l=5, max_iter = 5, break_perc=.98, \\\n",
    "                  random=False, parallel=True, plusplus=False, check_convergence=False, verbose=False)\n",
    "end = time.time()\n",
    "seed.append(parallel_cost[1])\n",
    "final.append(parallel_cost[-1])\n",
    "        \n",
    "    # Append results to the data list\n",
    "result_data_P.append((\"Parallel\", k, l, np.mean(seed),np.mean(final),(end-start)))\n",
    "\n",
    "#save\n",
    "result_schema = [\"Initialization\",\"K\", \"l\", \"Init_cost\", \"Final_cost\", \"Time\"]\n",
    "result_data_P = pd.DataFrame(result_data_P, columns=result_schema)\n",
    "result_data_P.to_csv('Cost_parallel_k_20.txt', sep='\\t', index=False)"
   ]
  },
  {
   "cell_type": "markdown",
   "id": "3a1a95fc-2886-4b78-811b-8e87938c0368",
   "metadata": {},
   "source": [
    "### $\\bullet \\quad k=30$"
   ]
  },
  {
   "cell_type": "code",
   "execution_count": null,
   "id": "943873d6-ca66-4ff1-8880-799d6b91424b",
   "metadata": {},
   "outputs": [
    {
     "name": "stderr",
     "output_type": "stream",
     "text": [
      "[Stage 1906:>                                                       (0 + 4) / 4]\r"
     ]
    }
   ],
   "source": [
    "# k=30\n",
    "result_data_P = []\n",
    "\n",
    "# Test parameters\n",
    "k = 30\n",
    "l = 7\n",
    "max_iterations = 5\n",
    "seed = []\n",
    "final = []\n",
    "\n",
    "    \n",
    "# Run KMeans with parallel initialization \n",
    "start = time.time()\n",
    "parallel_cost, _, _ =  KMeans(df=kdd_repart, k=30, l=7, max_iter = 5, break_perc=.98, \\\n",
    "                  random=False, parallel=True, plusplus=False, check_convergence=False, verbose=False)\n",
    "end = time.time()\n",
    "seed.append(parallel_cost[1])\n",
    "final.append(parallel_cost[-1])\n",
    "        \n",
    "# Append results to the data list\n",
    "result_data_P.append((\"Parallel\", k, l, np.mean(seed),np.mean(final),(end-start)))\n",
    "\n",
    "#save\n",
    "result_schema = [\"Initialization\",\"K\", \"l\", \"Init_cost\", \"Final_cost\", \"Time\"]\n",
    "result_data_P = pd.DataFrame(result_data_P, columns=result_schema)\n",
    "result_data_P.to_csv('Cost_parallel_k_30.txt', sep='\\t', index=False)"
   ]
  },
  {
   "cell_type": "markdown",
   "id": "bdce2e6b-9fd2-4294-af04-d8e7feab03bd",
   "metadata": {},
   "source": [
    "### $\\bullet \\quad  k=50$"
   ]
  },
  {
   "cell_type": "code",
   "execution_count": 42,
   "id": "fc828d38-db9f-41eb-a244-30e7b22800e1",
   "metadata": {},
   "outputs": [
    {
     "name": "stderr",
     "output_type": "stream",
     "text": [
      "                                                                                \r"
     ]
    }
   ],
   "source": [
    "# Parallel Initialization\n",
    "result_data_P = []\n",
    "\n",
    "# Test parameters\n",
    "k = 50\n",
    "l = 12\n",
    "max_iterations = 5\n",
    "seed = []\n",
    "final = []\n",
    "\n",
    "    \n",
    "# Run KMeans with parallel initialization \n",
    "start = time.time()\n",
    "parallel_cost, _, _ =  KMeans(df=kdd_repart, k=50, l=12, max_iter = 5, break_perc=.98, \\\n",
    "                  random=False, parallel=True, plusplus=False, check_convergence=False, verbose=False)\n",
    "end = time.time()\n",
    "seed.append(parallel_cost[1])\n",
    "final.append(parallel_cost[-1])\n",
    "        \n",
    "# Append results to the data list\n",
    "result_data_P.append((\"Parallel\", k, l, np.mean(seed),np.mean(final),(end-start)))\n",
    "\n",
    "#save\n",
    "result_schema = [\"Initialization\",\"K\", \"l\", \"Init_cost\", \"Final_cost\", \"Time\"]\n",
    "result_data_P = pd.DataFrame(result_data_P, columns=result_schema)\n",
    "result_data_P.to_csv('Cost_parallel_k_50.txt', sep='\\t', index=False)"
   ]
  },
  {
   "cell_type": "markdown",
   "id": "56eee141-e932-4439-b13a-f839d833ac48",
   "metadata": {},
   "source": [
    "### $\\bullet$ Comparing results"
   ]
  },
  {
   "cell_type": "code",
   "execution_count": 43,
   "id": "9e60e6c1-419f-46a2-9678-a78031fec988",
   "metadata": {},
   "outputs": [
    {
     "data": {
      "image/png": "[encoded data removed]",
      "text/plain": [
       "<Figure size 800x600 with 1 Axes>"
      ]
     },
     "metadata": {},
     "output_type": "display_data"
    }
   ],
   "source": [
    "y = []\n",
    "with open('Cost_parallel_k_20.txt', 'r') as file:\n",
    "    csv_reader = csv.reader(file, delimiter='\\t') \n",
    "    next(csv_reader, None)\n",
    "    for row in csv_reader:\n",
    "        time = row[-1]\n",
    "        y.append(time)\n",
    "with open('Cost_parallel_k_30.txt', 'r') as file:\n",
    "    csv_reader = csv.reader(file, delimiter='\\t') \n",
    "    next(csv_reader, None)\n",
    "    for row in csv_reader:\n",
    "        time = row[-1]\n",
    "        y.append(time)\n",
    "with open('Cost_parallel_k_50.txt', 'r') as file:\n",
    "    csv_reader = csv.reader(file, delimiter='\\t') \n",
    "    next(csv_reader, None)\n",
    "    for row in csv_reader:\n",
    "        time = row[-1]\n",
    "        y.append(time)\n",
    "x = [20,30,50]\n",
    "\n",
    "plt.figure(figsize=(8, 6))\n",
    "plt.plot(x, y, linestyle='-', marker='o', markersize=5, color='darkred',lw=1)\n",
    "plt.xlabel('Number of clusters', fontsize=12)\n",
    "plt.ylabel('Time (s)', fontsize=12)\n",
    "plt.grid(axis='y', linestyle='-', alpha=0.2)\n",
    "plt.show()"
   ]
  },
  {
   "cell_type": "markdown",
   "id": "34b3822b-ec75-42d9-a8ea-24dfc305e1bb",
   "metadata": {},
   "source": [
    "# PCA: Dimensionality reduction test"
   ]
  },
  {
   "cell_type": "markdown",
   "id": "769e6a57-ad49-474e-86b2-78597b38e25b",
   "metadata": {},
   "source": [
    "In this last part of the project, we focus on the dimensionality reduction performed at the beginning of our work (from $n\\_cols=39$ to $n\\_cols=20$. We want to compute the accuracy of this dimensionality reduction, comparing it with the performance of the algorithm on the whole dataset; for a more detailed comparison, we also computed the accuracy for dimensionality reductions to lower dimensions ($n\\_cols=15$ and $n\\_cols=10$)."
   ]
  },
  {
   "cell_type": "code",
   "execution_count": 44,
   "id": "9a225b2a-0cd8-49d7-9ba0-8110470b8bfd",
   "metadata": {},
   "outputs": [],
   "source": [
    "n_partitions=4"
   ]
  },
  {
   "cell_type": "markdown",
   "id": "7fb8ad3b-0374-4ff0-8ebb-b1c084e4cac9",
   "metadata": {},
   "source": [
    "### $\\bullet \\quad N°components=20$"
   ]
  },
  {
   "cell_type": "code",
   "execution_count": 45,
   "id": "6a997b23-4a67-49c4-b9e1-098d32847fc9",
   "metadata": {},
   "outputs": [
    {
     "name": "stderr",
     "output_type": "stream",
     "text": [
      "                                                                                \r"
     ]
    },
    {
     "data": {
      "text/plain": [
       "494021"
      ]
     },
     "execution_count": 45,
     "metadata": {},
     "output_type": "execute_result"
    }
   ],
   "source": [
    "kdd_data_20 = data_df_red.repartition(n_partitions)\n",
    "kdd_data_20.persist().count()"
   ]
  },
  {
   "cell_type": "code",
   "execution_count": 46,
   "id": "13556bb1-e8fc-47ab-b352-c46ebffa606f",
   "metadata": {},
   "outputs": [
    {
     "name": "stderr",
     "output_type": "stream",
     "text": [
      "                                                                                \r"
     ]
    },
    {
     "ename": "NameError",
     "evalue": "name 'min_df_20' is not defined",
     "output_type": "error",
     "traceback": [
      "\u001b[0;31m---------------------------------------------------------------------------\u001b[0m",
      "\u001b[0;31mNameError\u001b[0m                                 Traceback (most recent call last)",
      "Cell \u001b[0;32mIn[46], line 17\u001b[0m\n\u001b[1;32m     11\u001b[0m np\u001b[38;5;241m.\u001b[39msavetxt(\u001b[38;5;124m\"\u001b[39m\u001b[38;5;124mtest_par_cost_pca20.txt\u001b[39m\u001b[38;5;124m\"\u001b[39m, y_20)\n\u001b[1;32m     12\u001b[0m cen_20\u001b[38;5;241m.\u001b[39mcoalesce(\u001b[38;5;241m1\u001b[39m)\\\n\u001b[1;32m     13\u001b[0m     \u001b[38;5;241m.\u001b[39mwrite\u001b[38;5;241m.\u001b[39moption(\u001b[38;5;124m'\u001b[39m\u001b[38;5;124mheader\u001b[39m\u001b[38;5;124m'\u001b[39m,\u001b[38;5;124m'\u001b[39m\u001b[38;5;124mtrue\u001b[39m\u001b[38;5;124m'\u001b[39m)\\\n\u001b[1;32m     14\u001b[0m     \u001b[38;5;241m.\u001b[39moption(\u001b[38;5;124m'\u001b[39m\u001b[38;5;124msep\u001b[39m\u001b[38;5;124m'\u001b[39m,\u001b[38;5;124m'\u001b[39m\u001b[38;5;124m,\u001b[39m\u001b[38;5;124m'\u001b[39m)\\\n\u001b[1;32m     15\u001b[0m     \u001b[38;5;241m.\u001b[39mmode(\u001b[38;5;124m'\u001b[39m\u001b[38;5;124moverwrite\u001b[39m\u001b[38;5;124m'\u001b[39m)\\\n\u001b[1;32m     16\u001b[0m     \u001b[38;5;241m.\u001b[39mcsv(\u001b[38;5;124m'\u001b[39m\u001b[38;5;124mtest_cen_pca20\u001b[39m\u001b[38;5;124m'\u001b[39m)\n\u001b[0;32m---> 17\u001b[0m \u001b[43mmin_df_20\u001b[49m\u001b[38;5;241m.\u001b[39mcoalesce(\u001b[38;5;241m1\u001b[39m)\\\n\u001b[1;32m     18\u001b[0m     \u001b[38;5;241m.\u001b[39mwrite\u001b[38;5;241m.\u001b[39moption(\u001b[38;5;124m'\u001b[39m\u001b[38;5;124mheader\u001b[39m\u001b[38;5;124m'\u001b[39m,\u001b[38;5;124m'\u001b[39m\u001b[38;5;124mtrue\u001b[39m\u001b[38;5;124m'\u001b[39m)\\\n\u001b[1;32m     19\u001b[0m     \u001b[38;5;241m.\u001b[39moption(\u001b[38;5;124m'\u001b[39m\u001b[38;5;124msep\u001b[39m\u001b[38;5;124m'\u001b[39m,\u001b[38;5;124m'\u001b[39m\u001b[38;5;124m,\u001b[39m\u001b[38;5;124m'\u001b[39m)\\\n\u001b[1;32m     20\u001b[0m     \u001b[38;5;241m.\u001b[39mmode(\u001b[38;5;124m'\u001b[39m\u001b[38;5;124moverwrite\u001b[39m\u001b[38;5;124m'\u001b[39m)\\\n\u001b[1;32m     21\u001b[0m     \u001b[38;5;241m.\u001b[39mcsv(\u001b[38;5;124m'\u001b[39m\u001b[38;5;124mtest_min_df20_pca20\u001b[39m\u001b[38;5;124m'\u001b[39m)\n\u001b[1;32m     23\u001b[0m \u001b[38;5;28mprint\u001b[39m(\u001b[38;5;124m'\u001b[39m\u001b[38;5;124mRuntime for kmeans// initialization (dimension=20): \u001b[39m\u001b[38;5;124m'\u001b[39m,time_par20)\n",
      "\u001b[0;31mNameError\u001b[0m: name 'min_df_20' is not defined"
     ]
    }
   ],
   "source": [
    "start = time.time()\n",
    "#K-means //\n",
    "start = time.time()\n",
    "par_cost20, cen_20, min_df20 =  KMeans(df=kdd_data_20, k=20, l=5, max_iter = 5, break_perc=.98, \\\n",
    "                  random=False, parallel=True, plusplus=False, check_convergence=False, verbose=False) \n",
    "end = time.time()\n",
    "time_par20 = (end-start)\n",
    "y_20 = par_cost20\n",
    "\n",
    "#Save results\n",
    "np.savetxt(\"test_par_cost_pca20.txt\", y_20)\n",
    "cen_20.coalesce(1)\\\n",
    "    .write.option('header','true')\\\n",
    "    .option('sep',',')\\\n",
    "    .mode('overwrite')\\\n",
    "    .csv('test_cen_pca20')"
   ]
  },
  {
   "cell_type": "code",
   "execution_count": 47,
   "id": "f8b4643d-533b-4ea4-bbf6-1f4ec7641dc0",
   "metadata": {},
   "outputs": [
    {
     "name": "stderr",
     "output_type": "stream",
     "text": [
      "[Stage 1181:>                                                       (0 + 1) / 1]\r"
     ]
    },
    {
     "name": "stdout",
     "output_type": "stream",
     "text": [
      "Runtime for kmeans// initialization (dimension=20):  3148.354257106781\n"
     ]
    },
    {
     "name": "stderr",
     "output_type": "stream",
     "text": [
      "                                                                                \r"
     ]
    }
   ],
   "source": [
    "min_df20.coalesce(1)\\\n",
    "    .write.option('header','true')\\\n",
    "    .option('sep',',')\\\n",
    "    .mode('overwrite')\\\n",
    "    .csv('test_min_df20_pca20')\n",
    "\n",
    "print('Runtime for kmeans// initialization (dimension=20): ',time_par20)"
   ]
  },
  {
   "cell_type": "code",
   "execution_count": 48,
   "id": "813317f8-a454-4cb8-bb0e-6d7ca2837393",
   "metadata": {},
   "outputs": [
    {
     "data": {
      "text/plain": [
       "DataFrame[sample_id: int, pca_1: double, pca_2: double, pca_3: double, pca_4: double, pca_5: double, pca_6: double, pca_7: double, pca_8: double, pca_9: double, pca_10: double, pca_11: double, pca_12: double, pca_13: double, pca_14: double, pca_15: double, pca_16: double, pca_17: double, pca_18: double, pca_19: double, pca_20: double]"
      ]
     },
     "execution_count": 48,
     "metadata": {},
     "output_type": "execute_result"
    }
   ],
   "source": [
    "kdd_data_20.unpersist()"
   ]
  },
  {
   "cell_type": "code",
   "execution_count": 49,
   "id": "e8fa19b6-420c-434c-a6cc-34688eafe7e1",
   "metadata": {},
   "outputs": [
    {
     "data": {
      "text/plain": [
       "DataFrame[sample_id: int, pca_1: double, pca_2: double, pca_3: double, pca_4: double, pca_5: double, pca_6: double, pca_7: double, pca_8: double, pca_9: double, pca_10: double, pca_11: double, pca_12: double, pca_13: double, pca_14: double, pca_15: double, pca_16: double, pca_17: double, pca_18: double, pca_19: double, pca_20: double]"
      ]
     },
     "execution_count": 49,
     "metadata": {},
     "output_type": "execute_result"
    }
   ],
   "source": [
    "data_df_red.unpersist()"
   ]
  },
  {
   "cell_type": "markdown",
   "id": "e68f9f15-b59b-4dde-a2fc-231003f02b77",
   "metadata": {},
   "source": [
    "### $\\bullet \\quad N°components=39$: Complete dataset"
   ]
  },
  {
   "cell_type": "code",
   "execution_count": 51,
   "id": "52779570-396c-4b5a-bac3-c7f0ea67015f",
   "metadata": {},
   "outputs": [],
   "source": [
    "window_spec = Window.orderBy(\"duration\")\n",
    "data_df = data_df.withColumn(\"sample_id\", row_number().over(window_spec))"
   ]
  },
  {
   "cell_type": "code",
   "execution_count": 52,
   "id": "67d9fef3-8c7a-4f32-9bb1-8a78b4e23179",
   "metadata": {},
   "outputs": [
    {
     "name": "stderr",
     "output_type": "stream",
     "text": [
      "[Stage 28:=================================================>      (44 + 6) / 50]\r"
     ]
    },
    {
     "name": "stdout",
     "output_type": "stream",
     "text": [
      "+---------+-----+\n",
      "|sample_id|count|\n",
      "+---------+-----+\n",
      "+---------+-----+\n",
      "\n"
     ]
    },
    {
     "name": "stderr",
     "output_type": "stream",
     "text": [
      "                                                                                \r"
     ]
    }
   ],
   "source": [
    "#Check that te added identifier column is unique\n",
    "data_df.groupBy(col('sample_id')).count().where(col('count')!=1).show()"
   ]
  },
  {
   "cell_type": "code",
   "execution_count": 53,
   "id": "023e739d-5756-4505-84d9-792f67d5aa16",
   "metadata": {},
   "outputs": [
    {
     "name": "stderr",
     "output_type": "stream",
     "text": [
      "                                                                                \r"
     ]
    },
    {
     "data": {
      "text/plain": [
       "494021"
      ]
     },
     "execution_count": 53,
     "metadata": {},
     "output_type": "execute_result"
    }
   ],
   "source": [
    "kdd_data_tot = data_df.repartition(n_partitions)\n",
    "kdd_data_tot.persist().count()"
   ]
  },
  {
   "cell_type": "code",
   "execution_count": 54,
   "id": "051ebca1-e902-4575-abc4-9ab324244837",
   "metadata": {},
   "outputs": [
    {
     "name": "stderr",
     "output_type": "stream",
     "text": [
      "[Stage 1211:>                                                       (0 + 1) / 1]\r"
     ]
    },
    {
     "name": "stdout",
     "output_type": "stream",
     "text": [
      "Runtime for kmeans// initialization (Total dataset):  4659.715532064438\n"
     ]
    },
    {
     "name": "stderr",
     "output_type": "stream",
     "text": [
      "                                                                                \r"
     ]
    }
   ],
   "source": [
    "start = time.time()\n",
    "#K-means //\n",
    "start = time.time()\n",
    "par_cost_tot, cen_tot, min_df_tot =  KMeans(df=kdd_data_tot, k=20, l=5, max_iter = 5, break_perc=.98, \\\n",
    "                  random=False, parallel=True, plusplus=False, check_convergence=False, verbose=False) \n",
    "end = time.time()\n",
    "time_par_tot = (end-start)\n",
    "y_tot = par_cost_tot\n",
    "\n",
    "#Save results\n",
    "np.savetxt(\"test_par_cost_pca_tot.txt\", y_tot)\n",
    "cen_tot.coalesce(1)\\\n",
    "    .write.option('header','true')\\\n",
    "    .option('sep',',')\\\n",
    "    .mode('overwrite')\\\n",
    "    .csv('test_cen_pca_tot')\n",
    "min_df_tot.coalesce(1)\\\n",
    "    .write.option('header','true')\\\n",
    "    .option('sep',',')\\\n",
    "    .mode('overwrite')\\\n",
    "    .csv('test_min_df_pca_tot')\n",
    "\n",
    "print('Runtime for kmeans// initialization (Total dataset): ',time_par_tot)"
   ]
  },
  {
   "cell_type": "code",
   "execution_count": 55,
   "id": "2713d50b-8332-46bd-8887-9e6e6db6046e",
   "metadata": {},
   "outputs": [
    {
     "data": {
      "text/plain": [
       "DataFrame[duration: double, src_bytes: double, dst_bytes: double, land: double, wrong_fragment: double, urgent: double, hot: double, num_failed_logins: double, logged_in: double, num_compromised: double, root_shell: double, su_attempted: double, num_root: double, num_file_creations: double, num_shells: double, num_access_files: double, num_outbound_cmds: double, is_host_login: double, is_guest_login: double, count: double, srv_count: double, serror_rate: double, srv_serror_rate: double, rerror_rate: double, srv_rerror_rate: double, same_srv_rate: double, diff_srv_rate: double, srv_diff_host_rate: double, dst_host_count: double, dst_host_srv_count: double, dst_host_same_srv_rate: double, dst_host_diff_srv_rate: double, dst_host_same_src_port_rate: double, dst_host_srv_diff_host_rate: double, dst_host_serror_rate: double, dst_host_srv_serror_rate: double, dst_host_rerror_rate: double, dst_host_srv_rerror_rate: double, sample_id: int]"
      ]
     },
     "execution_count": 55,
     "metadata": {},
     "output_type": "execute_result"
    }
   ],
   "source": [
    "kdd_data_tot.unpersist()"
   ]
  },
  {
   "cell_type": "markdown",
   "id": "e1d17248-2820-4a64-a73b-d73c3cbdef79",
   "metadata": {},
   "source": [
    "### $\\bullet \\quad N°components=15$"
   ]
  },
  {
   "cell_type": "code",
   "execution_count": 56,
   "id": "993765cf-3d2e-4c17-8e4a-94539c1d2787",
   "metadata": {},
   "outputs": [
    {
     "name": "stderr",
     "output_type": "stream",
     "text": [
      "                                                                                \r"
     ]
    },
    {
     "data": {
      "text/plain": [
       "494021"
      ]
     },
     "execution_count": 56,
     "metadata": {},
     "output_type": "execute_result"
    }
   ],
   "source": [
    "data_df_15 = pca_conversion(data_df,15)\n",
    "kdd_data_15= data_df_15.repartition(n_partitions)\n",
    "kdd_data_15.persist().count()"
   ]
  },
  {
   "cell_type": "code",
   "execution_count": 57,
   "id": "e921aa3f-2590-4910-894b-5297d5aaafe6",
   "metadata": {},
   "outputs": [
    {
     "name": "stderr",
     "output_type": "stream",
     "text": [
      "[Stage 2376:>                                                       (0 + 1) / 1]\r"
     ]
    },
    {
     "name": "stdout",
     "output_type": "stream",
     "text": [
      "Runtime for kmeans// initialization (dimension=15):  3280.339277744293\n"
     ]
    },
    {
     "name": "stderr",
     "output_type": "stream",
     "text": [
      "                                                                                \r"
     ]
    }
   ],
   "source": [
    "start = time.time()\n",
    "#K-means //\n",
    "start = time.time()\n",
    "par_cost15, cen_15, min_df15 =  KMeans(df=kdd_data_15, k=20, l=5, max_iter = 5, break_perc=.98, \\\n",
    "                  random=False, parallel=True, plusplus=False, check_convergence=False, verbose=False) \n",
    "end = time.time()\n",
    "time_par15 = (end-start)\n",
    "y_15 = par_cost15\n",
    "\n",
    "#Save results\n",
    "np.savetxt(\"test_par_cost_pca15.txt\", y_15)\n",
    "cen_15.coalesce(1)\\\n",
    "    .write.option('header','true')\\\n",
    "    .option('sep',',')\\\n",
    "    .mode('overwrite')\\\n",
    "    .csv('test_cen_pca15')\n",
    "min_df15.coalesce(1)\\\n",
    "    .write.option('header','true')\\\n",
    "    .option('sep',',')\\\n",
    "    .mode('overwrite')\\\n",
    "    .csv('test_min_df15_pca15')\n",
    "\n",
    "print('Runtime for kmeans// initialization (dimension=15): ',time_par15)"
   ]
  },
  {
   "cell_type": "code",
   "execution_count": 58,
   "id": "29f8372d-9785-4798-9cc4-bc3672817e58",
   "metadata": {},
   "outputs": [
    {
     "data": {
      "text/plain": [
       "DataFrame[sample_id: int, pca_1: double, pca_2: double, pca_3: double, pca_4: double, pca_5: double, pca_6: double, pca_7: double, pca_8: double, pca_9: double, pca_10: double, pca_11: double, pca_12: double, pca_13: double, pca_14: double, pca_15: double]"
      ]
     },
     "execution_count": 58,
     "metadata": {},
     "output_type": "execute_result"
    }
   ],
   "source": [
    "kdd_data_15.unpersist()"
   ]
  },
  {
   "cell_type": "markdown",
   "id": "21014a9c-fd9e-4347-b032-007a11509c75",
   "metadata": {},
   "source": [
    "### $\\bullet \\quad N°components=10$"
   ]
  },
  {
   "cell_type": "code",
   "execution_count": 59,
   "id": "8012b68d-9bb5-4e3a-a258-a08e1abe4c80",
   "metadata": {},
   "outputs": [
    {
     "name": "stderr",
     "output_type": "stream",
     "text": [
      "                                                                                \r"
     ]
    },
    {
     "data": {
      "text/plain": [
       "494021"
      ]
     },
     "execution_count": 59,
     "metadata": {},
     "output_type": "execute_result"
    }
   ],
   "source": [
    "data_df_10 = pca_conversion(data_df,10)\n",
    "kdd_data_10= data_df_10.repartition(n_partitions)\n",
    "kdd_data_10.persist().count()"
   ]
  },
  {
   "cell_type": "code",
   "execution_count": 60,
   "id": "9e98c57b-5275-4450-b893-bff7c13d4bb9",
   "metadata": {},
   "outputs": [
    {
     "name": "stderr",
     "output_type": "stream",
     "text": [
      "[Stage 3547:>                                                       (0 + 1) / 1]\r"
     ]
    },
    {
     "name": "stdout",
     "output_type": "stream",
     "text": [
      "Runtime for kmeans// initialization (dimension=10):  2567.441884994507\n"
     ]
    },
    {
     "name": "stderr",
     "output_type": "stream",
     "text": [
      "                                                                                \r"
     ]
    }
   ],
   "source": [
    "start = time.time()\n",
    "#K-means //\n",
    "start = time.time()\n",
    "par_cost10, cen_10, min_df10 =  KMeans(df=kdd_data_10, k=20, l=5, max_iter = 5, break_perc=.98, \\\n",
    "                  random=False, parallel=True, plusplus=False, check_convergence=False, verbose=False) \n",
    "end = time.time()\n",
    "time_par10 = (end-start)\n",
    "y_10 = par_cost10\n",
    "\n",
    "#Save results\n",
    "np.savetxt(\"test_par_cost_pca10.txt\", y_10)\n",
    "cen_10.coalesce(1)\\\n",
    "    .write.option('header','true')\\\n",
    "    .option('sep',',')\\\n",
    "    .mode('overwrite')\\\n",
    "    .csv('test_cen_pca10')\n",
    "min_df10.coalesce(1)\\\n",
    "    .write.option('header','true')\\\n",
    "    .option('sep',',')\\\n",
    "    .mode('overwrite')\\\n",
    "    .csv('test_min_df10_pca10')\n",
    "\n",
    "print('Runtime for kmeans// initialization (dimension=10): ',time_par10)"
   ]
  },
  {
   "cell_type": "code",
   "execution_count": 61,
   "id": "7d97aa0d-97cb-4bfe-89ac-aef7f5436d76",
   "metadata": {},
   "outputs": [
    {
     "data": {
      "text/plain": [
       "DataFrame[sample_id: int, pca_1: double, pca_2: double, pca_3: double, pca_4: double, pca_5: double, pca_6: double, pca_7: double, pca_8: double, pca_9: double, pca_10: double]"
      ]
     },
     "execution_count": 61,
     "metadata": {},
     "output_type": "execute_result"
    }
   ],
   "source": [
    "kdd_data_10.unpersist()"
   ]
  },
  {
   "cell_type": "code",
   "execution_count": 62,
   "id": "f5592c0a-dfe6-401f-b95a-42ee8e2224b6",
   "metadata": {},
   "outputs": [
    {
     "data": {
      "image/png": "[encoded data removed]",
      "text/plain": [
       "<Figure size 800x600 with 1 Axes>"
      ]
     },
     "metadata": {},
     "output_type": "display_data"
    }
   ],
   "source": [
    "times = [4659.715532064438, 3148.354257106781, 3280.339277744293, 2567.441884994507]\n",
    "num_components = [39, 20, 15, 10]\n",
    "\n",
    "plt.figure(figsize=(8, 6))\n",
    "plt.plot(num_components, times, linestyle='-', marker='o', markersize=5, color='blue',lw=1)\n",
    "plt.xlabel('Number of components', fontsize=12)\n",
    "plt.ylabel('Run time (s)', fontsize=12)\n",
    "plt.grid(axis='y', linestyle='-', alpha=0.2)\n",
    "plt.show()"
   ]
  },
  {
   "cell_type": "markdown",
   "id": "b7a8c93b-8736-4191-9ceb-fc0503570fac",
   "metadata": {},
   "source": [
    "# $\\bullet \\quad$ PCA feature selection comparison: tradeoff"
   ]
  },
  {
   "cell_type": "code",
   "execution_count": 63,
   "id": "bf05ca29-2b59-45dd-bb03-00b91b36c254",
   "metadata": {},
   "outputs": [],
   "source": [
    "#add sample_id column to kdd_10 in such a way we are able to use the function\n",
    "#we defined as get_clusters\n",
    "window_spec = Window.orderBy(\"duration\")\n",
    "kdd_10_1 = kdd_10.withColumn(\"sample_id\", row_number().over(window_spec))\n",
    "\n",
    "def find_label_centroid(df):\n",
    "    '''\n",
    "    Input: output of the function get clusters\n",
    "    Output: for each centroid_sample_id the labels which is most represented and its count\n",
    "    '''\n",
    "    window_spec = Window.partitionBy(\"centroid_sample_id\").orderBy(col(\"count\").desc())\n",
    "    result_df = df.withColumn(\"max_count\", max(\"count\").over(window_spec))\n",
    "    result_df = result_df.filter(result_df[\"count\"] == result_df[\"max_count\"]).drop(\"max_count\")\n",
    "\n",
    "    return result_df"
   ]
  },
  {
   "cell_type": "markdown",
   "id": "fe6bb11c-048c-44fb-a9d7-cf90037b9265",
   "metadata": {},
   "source": [
    "Load data, apply get_clusters function and find_label_centroid function.\n"
   ]
  },
  {
   "cell_type": "code",
   "execution_count": 64,
   "id": "d59b3eba-23a1-433b-b572-330867c88403",
   "metadata": {},
   "outputs": [
    {
     "name": "stderr",
     "output_type": "stream",
     "text": [
      "/usr/local/spark/python/pyspark/sql/pandas/serializers.py:229: FutureWarning: is_categorical_dtype is deprecated and will be removed in a future version. Use isinstance(dtype, CategoricalDtype) instead\n",
      "  elif is_categorical_dtype(s.dtype):\n",
      "                                                                                \r"
     ]
    },
    {
     "data": {
      "text/plain": [
       "19"
      ]
     },
     "execution_count": 64,
     "metadata": {},
     "output_type": "execute_result"
    }
   ],
   "source": [
    "#read file output of Kmeans applied to pca with 20 components\n",
    "min_df_20 = pd.read_csv('test_min_df20_pca20/test_min_df20_pca_20.csv')\n",
    "min_df_20 = spark.createDataFrame(min_df_20)\n",
    "\n",
    "result_20 = get_clusters(min_df_20,kdd_10_1)\n",
    "predict_20 = find_label_centroid(result_20)\n",
    "predict_20.persist().count()"
   ]
  },
  {
   "cell_type": "code",
   "execution_count": 65,
   "id": "5f0a5998-667e-43fc-ae3e-e5e3994b22b8",
   "metadata": {},
   "outputs": [
    {
     "name": "stdout",
     "output_type": "stream",
     "text": [
      "+-------------------+------------------+------+\n",
      "|             labels|centroid_sample_id| count|\n",
      "+-------------------+------------------+------+\n",
      "|[73 6D 75 72 66 2E]|                 0|121548|\n",
      "|[73 6D 75 72 66 2E]|                 1|133630|\n",
      "|[73 6D 75 72 66 2E]|                 2|133630|\n",
      "|[73 6D 75 72 66 2E]|                 3|  2701|\n",
      "|[73 6D 75 72 66 2E]|                 4|  3883|\n",
      "|[73 6D 75 72 66 2E]|                 5|  1947|\n",
      "|[73 6D 75 72 66 2E]|                 6|  2710|\n",
      "|[73 6D 75 72 66 2E]|                 7|  3857|\n",
      "|[73 6D 75 72 66 2E]|                 8|121548|\n",
      "|[73 6D 75 72 66 2E]|                 9|  2701|\n",
      "|[73 6D 75 72 66 2E]|                10|  3206|\n",
      "|[73 6D 75 72 66 2E]|                11|   469|\n",
      "|[73 6D 75 72 66 2E]|                12|  2701|\n",
      "|[73 6D 75 72 66 2E]|                13|  1657|\n",
      "|[73 6D 75 72 66 2E]|                14|133630|\n",
      "|[73 6D 75 72 66 2E]|                15|  1293|\n",
      "|[73 6D 75 72 66 2E]|                16|  2710|\n",
      "|[73 6D 75 72 66 2E]|                17|  3889|\n",
      "|[73 6D 75 72 66 2E]|                18|121548|\n",
      "+-------------------+------------------+------+\n",
      "\n"
     ]
    }
   ],
   "source": [
    "predict_20.show()"
   ]
  },
  {
   "cell_type": "code",
   "execution_count": 66,
   "id": "6fe75666-90b7-4e3a-b59b-bbc26da85062",
   "metadata": {},
   "outputs": [
    {
     "data": {
      "text/plain": [
       "DataFrame[labels: binary, centroid_sample_id: bigint, count: bigint]"
      ]
     },
     "execution_count": 66,
     "metadata": {},
     "output_type": "execute_result"
    }
   ],
   "source": [
    "predict_20.unpersist()"
   ]
  },
  {
   "cell_type": "code",
   "execution_count": 67,
   "id": "9b092d62-b383-4c54-a9b7-2c3c0e6f3522",
   "metadata": {},
   "outputs": [
    {
     "name": "stderr",
     "output_type": "stream",
     "text": [
      "/usr/local/spark/python/pyspark/sql/pandas/serializers.py:229: FutureWarning: is_categorical_dtype is deprecated and will be removed in a future version. Use isinstance(dtype, CategoricalDtype) instead\n",
      "  elif is_categorical_dtype(s.dtype):\n",
      "                                                                                \r"
     ]
    },
    {
     "data": {
      "text/plain": [
       "20"
      ]
     },
     "execution_count": 67,
     "metadata": {},
     "output_type": "execute_result"
    }
   ],
   "source": [
    "#read file output of Kmeans applied to pca with 15 components\n",
    "min_df_15 = pd.read_csv('test_min_df15_pca15/test_min_df15_pca_15.csv')\n",
    "min_df_15 = spark.createDataFrame(min_df_15)\n",
    "\n",
    "result_15 = get_clusters(min_df_15,kdd_10_1)\n",
    "predict_15 = find_label_centroid(result_15)\n",
    "predict_15.persist().count()"
   ]
  },
  {
   "cell_type": "code",
   "execution_count": 68,
   "id": "b47a5b84-fa37-45e7-b5eb-4baaf6640b7c",
   "metadata": {},
   "outputs": [
    {
     "name": "stdout",
     "output_type": "stream",
     "text": [
      "+--------------------+------------------+------+\n",
      "|              labels|centroid_sample_id| count|\n",
      "+--------------------+------------------+------+\n",
      "| [73 6D 75 72 66 2E]|                 0|  5632|\n",
      "| [73 6D 75 72 66 2E]|                 1|  5632|\n",
      "| [73 6D 75 72 66 2E]|                 2|  5632|\n",
      "| [73 6D 75 72 66 2E]|                 3|  5632|\n",
      "| [73 6D 75 72 66 2E]|                 4|  5632|\n",
      "| [73 6D 75 72 66 2E]|                 5| 68449|\n",
      "| [73 6D 75 72 66 2E]|                 6|  5632|\n",
      "| [73 6D 75 72 66 2E]|                 7|  5632|\n",
      "| [73 6D 75 72 66 2E]|                 8|  5632|\n",
      "| [73 6D 75 72 66 2E]|                 9|  5632|\n",
      "|[6E 6F 72 6D 61 6...|                10|   390|\n",
      "| [73 6D 75 72 66 2E]|                11|  5632|\n",
      "| [73 6D 75 72 66 2E]|                12|172134|\n",
      "| [73 6D 75 72 66 2E]|                13|  5632|\n",
      "| [73 6D 75 72 66 2E]|                14|  5632|\n",
      "| [73 6D 75 72 66 2E]|                15|  5632|\n",
      "| [73 6D 75 72 66 2E]|                16|  1565|\n",
      "| [73 6D 75 72 66 2E]|                17| 20898|\n",
      "| [73 6D 75 72 66 2E]|                18| 11908|\n",
      "| [73 6D 75 72 66 2E]|                19|  5632|\n",
      "+--------------------+------------------+------+\n",
      "\n"
     ]
    }
   ],
   "source": [
    "predict_15.show()"
   ]
  },
  {
   "cell_type": "code",
   "execution_count": 69,
   "id": "747ddb43-e4b3-443f-9451-089a32985e7f",
   "metadata": {},
   "outputs": [
    {
     "data": {
      "text/plain": [
       "DataFrame[labels: binary, centroid_sample_id: bigint, count: bigint]"
      ]
     },
     "execution_count": 69,
     "metadata": {},
     "output_type": "execute_result"
    }
   ],
   "source": [
    "predict_15.unpersist()"
   ]
  }
 ],
 "metadata": {
  "kernelspec": {
   "display_name": "Python 3 (ipykernel)",
   "language": "python",
   "name": "python3"
  },
  "language_info": {
   "codemirror_mode": {
    "name": "ipython",
    "version": 3
   },
   "file_extension": ".py",
   "mimetype": "text/x-python",
   "name": "python",
   "nbconvert_exporter": "python",
   "pygments_lexer": "ipython3",
   "version": "3.10.12"
  }
 },
 "nbformat": 4,
 "nbformat_minor": 5
}
